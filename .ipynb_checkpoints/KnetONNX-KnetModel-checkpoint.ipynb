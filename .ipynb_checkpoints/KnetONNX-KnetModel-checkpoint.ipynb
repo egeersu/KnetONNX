{
 "cells": [
  {
   "cell_type": "code",
   "execution_count": 29,
   "metadata": {},
   "outputs": [],
   "source": [
    "push!(LOAD_PATH, \".\");\n",
    "using Knet; using KnetONNX;"
   ]
  },
  {
   "cell_type": "code",
   "execution_count": 30,
   "metadata": {},
   "outputs": [
    {
     "name": "stdout",
     "output_type": "stream",
     "text": [
      "model inputs: [\"input\"]\n",
      "model outputs: [\"7\"]\n",
      "(op1) Gemm\n",
      "\tinput1: input\n",
      "\tinput2: linear1.weight\n",
      "\tinput3: linear1.bias\n",
      "\toutput1: 5\n",
      "(op2) Gemm\n",
      "\tinput1: input\n",
      "\tinput2: linear2.weight\n",
      "\tinput3: linear2.bias\n",
      "\toutput1: 6\n",
      "(op3) Add\n",
      "\tinput1: 5\n",
      "\tinput2: 6\n",
      "\toutput1: 7\n"
     ]
    }
   ],
   "source": [
    "g = ONNXtoGraph(\"branch1.onnx\");\n",
    "PrintGraph(g)"
   ]
  },
  {
   "cell_type": "code",
   "execution_count": 31,
   "metadata": {},
   "outputs": [
    {
     "data": {
      "text/plain": [
       "get_ModelLayers (generic function with 1 method)"
      ]
     },
     "execution_count": 31,
     "metadata": {},
     "output_type": "execute_result"
    }
   ],
   "source": [
    "struct ModelLayer\n",
    "    inputs #list of strings\n",
    "    layer # a KnetLayer\n",
    "    outputs #list of strings\n",
    "end\n",
    "\n",
    "function ModelLayer(node, g)\n",
    "    (args, layer, outputs) = KnetONNX.node_to_layer(node, g)\n",
    "    ModelLayer(args, layer, outputs)\n",
    "end\n",
    "\n",
    "function get_ModelLayers(g)\n",
    "    ModelLayers = []\n",
    "    for node in g.node; push!(ModelLayers, ModelLayer(node, g)); end\n",
    "    return ModelLayers\n",
    "end"
   ]
  },
  {
   "cell_type": "code",
   "execution_count": 38,
   "metadata": {},
   "outputs": [
    {
     "data": {
      "text/plain": [
       "2-element Array{AbstractString,1}:\n",
       " \"5\"\n",
       " \"6\""
      ]
     },
     "execution_count": 38,
     "metadata": {},
     "output_type": "execute_result"
    }
   ],
   "source": [
    "# graph node, graph -> ModelLayer\n",
    "function node_to_add(node, g)\n",
    "    args = node.input\n",
    "    outs = node.output[1]\n",
    "    #return (args, layer, outs)\n",
    "    args\n",
    "end\n",
    "\n",
    "\n",
    "\n",
    "node3 = g.node[3]\n",
    "node_to_add(node3, g)"
   ]
  },
  {
   "cell_type": "code",
   "execution_count": 13,
   "metadata": {},
   "outputs": [
    {
     "data": {
      "text/plain": [
       "TensorDict (generic function with 1 method)"
      ]
     },
     "execution_count": 13,
     "metadata": {},
     "output_type": "execute_result"
    }
   ],
   "source": [
    "mutable struct KnetModel\n",
    "    tensors\n",
    "    model_layers\n",
    "    model_inputs\n",
    "    model_outputs\n",
    "end\n",
    "\n",
    "function KnetModel(g::KnetONNX.Types.Graph)\n",
    "    tensors = TensorDict(g)\n",
    "    model_layers = get_ModelLayers(g)\n",
    "    model_inputs = [i.name for i in g.input]\n",
    "    model_outputs = [o.name for o in g.output]\n",
    "    KnetModel(tensors, model_layers, model_inputs, model_outputs)\n",
    "end\n",
    "\n",
    "function TensorDict(g::KnetONNX.Types.Graph)\n",
    "    tensors = Dict()\n",
    "    for node in g.node\n",
    "        for input in node.input; tensors[input] = Nothing; end\n",
    "        for output in node.output; tensors[output] = Nothing; end\n",
    "    end\n",
    "    for (node, value) in g.initializer; tensors[node] = value; end\n",
    "    tensors\n",
    "end"
   ]
  },
  {
   "cell_type": "code",
   "execution_count": 20,
   "metadata": {},
   "outputs": [],
   "source": [
    "# model, layer -> compute forward pass\n",
    "function forward(km::KnetModel, ml::ModelLayer)\n",
    "    \n",
    "    #check if there is a nothing in tensors, no need to copy'em all\n",
    "    for input in ml.inputs\n",
    "        if km.tensors[input] == Nothing; return \"oops\"; end\n",
    "    end\n",
    "\n",
    "    # gather inputs in a list\n",
    "    inputs = (key-> km.tensors[key]).(ml.inputs)\n",
    "    \n",
    "    # forward pass (only works if there is just one input)\n",
    "    # realize that node_to_gemm already initialized the weights \n",
    "    out = ml.layer(inputs[1])\n",
    "    \n",
    "    #ideally\n",
    "    #out = ml.layer(inputs)\n",
    "    \n",
    "    # output\n",
    "    km.tensors[ml.outputs[1]] = out\n",
    "end\n",
    "\n",
    "function (m::KnetModel)(x)\n",
    "    # first, insert x into model.tensors\n",
    "    # might be multiple model inputs\n",
    "    m.tensors[m.model_inputs[1]] = x\n",
    "    \n",
    "    \n",
    "    # do until all model.tensors are filled \n",
    "    # iterate over all layers and call forward on that layer\n",
    "    while Nothing in values(m.tensors)\n",
    "        for layer in m.model_layers\n",
    "            forward(m, layer)\n",
    "        end\n",
    "    end\n",
    "    \n",
    "    # could be multiple\n",
    "    if length(m.model_outputs) == 1; return m.tensors[m.model_outputs[1]]; \n",
    "        else; outs = []; for out in m.model_outputs; push!(outs, m.tensors[out]); end; return outs; end\n",
    "end"
   ]
  },
  {
   "cell_type": "code",
   "execution_count": 25,
   "metadata": {},
   "outputs": [
    {
     "data": {
      "text/plain": [
       "2×5 Array{Float64,2}:\n",
       "  0.558039   0.558039   0.558039   0.558039   0.558039\n",
       " -0.149698  -0.149698  -0.149698  -0.149698  -0.149698"
      ]
     },
     "execution_count": 25,
     "metadata": {},
     "output_type": "execute_result"
    }
   ],
   "source": [
    "model = KnetModel(g);\n",
    "\n",
    "dummy_input = ones(40,5);\n",
    "model(dummy_input)"
   ]
  }
 ],
 "metadata": {
  "kernelspec": {
   "display_name": "Julia 1.2.0",
   "language": "julia",
   "name": "julia-1.2"
  },
  "language_info": {
   "file_extension": ".jl",
   "mimetype": "application/julia",
   "name": "julia",
   "version": "1.2.0"
  }
 },
 "nbformat": 4,
 "nbformat_minor": 2
}
