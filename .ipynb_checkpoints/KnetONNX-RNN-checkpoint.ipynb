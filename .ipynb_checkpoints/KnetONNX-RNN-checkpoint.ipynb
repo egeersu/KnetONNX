{
 "cells": [
  {
   "cell_type": "code",
   "execution_count": 5,
   "metadata": {},
   "outputs": [],
   "source": [
    "push!(LOAD_PATH, \".\")\n",
    "using Knet; using KnetONNX;"
   ]
  },
  {
   "cell_type": "code",
   "execution_count": 26,
   "metadata": {},
   "outputs": [
    {
     "name": "stdout",
     "output_type": "stream",
     "text": [
      "model inputs: [\"input.1\"]\n",
      "model outputs: [\"25\"]\n",
      "(op1) Constant\n",
      "\toutput1: 7\n",
      "(op2) Shape\n",
      "\tinput1: input.1\n",
      "\toutput1: 8\n",
      "(op3) Gather\n",
      "\tinput1: 8\n",
      "\tinput2: 7\n",
      "\toutput1: 9\n",
      "(op4) Constant\n",
      "\toutput1: 10\n",
      "(op5) Constant\n",
      "\toutput1: 11\n",
      "(op6) Unsqueeze\n",
      "\tinput1: 10\n",
      "\toutput1: 12\n",
      "(op7) Unsqueeze\n",
      "\tinput1: 9\n",
      "\toutput1: 13\n",
      "(op8) Unsqueeze\n",
      "\tinput1: 11\n",
      "\toutput1: 14\n",
      "(op9) Concat\n",
      "\tinput1: 12\n",
      "\tinput2: 13\n",
      "\tinput3: 14\n",
      "\toutput1: 15\n",
      "(op10) ConstantOfShape\n",
      "\tinput1: 15\n",
      "\toutput1: 16\n",
      "(op11) Concat\n",
      "\tinput1: rnn.bias_ih_l0\n",
      "\tinput2: rnn.bias_hh_l0\n",
      "\toutput1: 18\n",
      "(op12) Unsqueeze\n",
      "\tinput1: rnn.weight_ih_l0\n",
      "\toutput1: 19\n",
      "(op13) Unsqueeze\n",
      "\tinput1: rnn.weight_hh_l0\n",
      "\toutput1: 20\n",
      "(op14) Unsqueeze\n",
      "\tinput1: 18\n",
      "\toutput1: 21\n",
      "(op15) RNN\n",
      "\tinput1: input.1\n",
      "\tinput2: 19\n",
      "\tinput3: 20\n",
      "\tinput4: 21\n",
      "\tinput5: \n",
      "\tinput6: 16\n",
      "\toutput1: 22\n",
      "\toutput2: 23\n",
      "(op16) Squeeze\n",
      "\tinput1: 23\n",
      "\toutput1: 24\n",
      "(op17) Gemm\n",
      "\tinput1: 24\n",
      "\tinput2: linear.weight\n",
      "\tinput3: linear.bias\n",
      "\toutput1: 25\n"
     ]
    }
   ],
   "source": [
    "file_path = \"rnn.onnx\"\n",
    "g = ONNXtoGraph(file_path)\n",
    "PrintGraph(g)"
   ]
  },
  {
   "cell_type": "code",
   "execution_count": 33,
   "metadata": {},
   "outputs": [
    {
     "data": {
      "text/plain": [
       "KnetONNX.Types.Node(AbstractString[\"input.1\", \"19\", \"20\", \"21\", \"\", \"16\"], AbstractString[\"22\", \"23\"], \"\", \"RNN\", \"\", Dict{Any,Any}(:activations => Array{UInt8,1}[[0x54, 0x61, 0x6e, 0x68]],:hidden_size => 36), \"\")"
      ]
     },
     "execution_count": 33,
     "metadata": {},
     "output_type": "execute_result"
    }
   ],
   "source": [
    "node15 = g.node[15]"
   ]
  },
  {
   "cell_type": "code",
   "execution_count": 28,
   "metadata": {},
   "outputs": [
    {
     "data": {
      "text/plain": [
       "6-element Array{AbstractString,1}:\n",
       " \"input.1\"\n",
       " \"19\"     \n",
       " \"20\"     \n",
       " \"21\"     \n",
       " \"\"       \n",
       " \"16\"     "
      ]
     },
     "execution_count": 28,
     "metadata": {},
     "output_type": "execute_result"
    }
   ],
   "source": [
    "node15.input"
   ]
  },
  {
   "cell_type": "code",
   "execution_count": 32,
   "metadata": {},
   "outputs": [
    {
     "data": {
      "text/plain": [
       "2-element Array{AbstractString,1}:\n",
       " \"22\"\n",
       " \"23\""
      ]
     },
     "execution_count": 32,
     "metadata": {},
     "output_type": "execute_result"
    }
   ],
   "source": [
    "node15.output"
   ]
  },
  {
   "cell_type": "code",
   "execution_count": 30,
   "metadata": {},
   "outputs": [
    {
     "data": {
      "text/plain": [
       "Dict{Any,Any} with 6 entries:\n",
       "  \"linear.bias\"      => Float32[0.147112, 0.122334]\n",
       "  \"rnn.bias_ih_l0\"   => Float32[-0.0123677, 0.0276768, 0.0134707, -0.0559895, 0…\n",
       "  \"linear.weight\"    => Float32[0.107055 -0.0308072; 0.0859962 0.141308; … ; -0…\n",
       "  \"rnn.weight_hh_l0\" => Float32[0.0247039 -0.0784563 … -0.00111043 0.0643308; -…\n",
       "  \"rnn.weight_ih_l0\" => Float32[-0.0461531 -0.15849 … -0.150092 -0.114045; -0.1…\n",
       "  \"rnn.bias_hh_l0\"   => Float32[-0.0772103, 0.139908, -0.00934249, -0.0682067, …"
      ]
     },
     "execution_count": 30,
     "metadata": {},
     "output_type": "execute_result"
    }
   ],
   "source": [
    "g.initializer"
   ]
  },
  {
   "cell_type": "code",
   "execution_count": 34,
   "metadata": {},
   "outputs": [
    {
     "data": {
      "text/plain": [
       "\"20\""
      ]
     },
     "execution_count": 34,
     "metadata": {},
     "output_type": "execute_result"
    }
   ],
   "source": [
    "function converter_rnn(node, g)\n",
    "    x = node.input[1]\n",
    "    w = node.input[2]\n",
    "    r = node.input[3]\n",
    "end\n",
    "converter_rnn(node15, g)"
   ]
  }
 ],
 "metadata": {
  "@webio": {
   "lastCommId": null,
   "lastKernelId": null
  },
  "kernelspec": {
   "display_name": "Julia 1.2.0",
   "language": "julia",
   "name": "julia-1.2"
  },
  "language_info": {
   "file_extension": ".jl",
   "mimetype": "application/julia",
   "name": "julia",
   "version": "1.2.0"
  }
 },
 "nbformat": 4,
 "nbformat_minor": 2
}
