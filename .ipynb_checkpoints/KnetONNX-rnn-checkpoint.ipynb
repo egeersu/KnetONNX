{
 "cells": [
  {
   "cell_type": "code",
   "execution_count": 1,
   "metadata": {},
   "outputs": [
    {
     "name": "stderr",
     "output_type": "stream",
     "text": [
      "┌ Info: Recompiling stale cache file /Users/egeersu/.julia/compiled/v1.2/KnetONNX.ji for KnetONNX [top-level]\n",
      "└ @ Base loading.jl:1240\n"
     ]
    },
    {
     "name": "stdout",
     "output_type": "stream",
     "text": [
      "  Updating registry at `~/.julia/registries/General`\n",
      "  Updating git-repo `https://github.com/JuliaRegistries/General.git`\n",
      "\u001b[?25l\u001b[2K\u001b[?25h Resolving package versions...\n",
      "  Updating `~/.julia/environments/v1.2/Project.toml`\n",
      " [no changes]\n",
      "  Updating `~/.julia/environments/v1.2/Manifest.toml`\n",
      " [no changes]\n",
      " Resolving package versions...\n",
      "  Updating `~/.julia/environments/v1.2/Project.toml`\n",
      " [no changes]\n",
      "  Updating `~/.julia/environments/v1.2/Manifest.toml`\n",
      " [no changes]\n",
      " Resolving package versions...\n",
      "  Updating `~/.julia/environments/v1.2/Project.toml`\n",
      " [no changes]\n",
      "  Updating `~/.julia/environments/v1.2/Manifest.toml`\n",
      " [no changes]\n",
      " Resolving package versions...\n",
      "  Updating `~/.julia/environments/v1.2/Project.toml`\n",
      " [no changes]\n",
      "  Updating `~/.julia/environments/v1.2/Manifest.toml`\n",
      " [no changes]\n"
     ]
    },
    {
     "name": "stderr",
     "output_type": "stream",
     "text": [
      "WARNING: Method definition iterate(DataFlow.ObjectArraySet{T} where T, Any...) in module DataFlow at /Users/egeersu/.julia/packages/Lazy/mAoZN/src/macros.jl:285 overwritten at /Users/egeersu/.julia/packages/Lazy/mAoZN/src/macros.jl:285.\n",
      "  ** incremental compilation may be fatally broken for this module **\n",
      "\n",
      "WARNING: Method definition iterate(DataFlow.ObjectArraySet{T} where T, Any...) in module DataFlow at /Users/egeersu/.julia/packages/Lazy/mAoZN/src/macros.jl:285 overwritten at /Users/egeersu/.julia/packages/Lazy/mAoZN/src/macros.jl:285.\n",
      "  ** incremental compilation may be fatally broken for this module **\n",
      "\n",
      "WARNING: Method definition iterate(DataFlow.ObjectArraySet{T} where T, Any...) in module DataFlow at /Users/egeersu/.julia/packages/Lazy/mAoZN/src/macros.jl:285 overwritten at /Users/egeersu/.julia/packages/Lazy/mAoZN/src/macros.jl:285.\n",
      "  ** incremental compilation may be fatally broken for this module **\n",
      "\n"
     ]
    },
    {
     "name": "stdout",
     "output_type": "stream",
     "text": [
      " Resolving package versions...\n",
      "  Updating `~/.julia/environments/v1.2/Project.toml`\n",
      " [no changes]\n",
      "  Updating `~/.julia/environments/v1.2/Manifest.toml`\n",
      " [no changes]\n",
      " Resolving package versions...\n",
      "  Updating `~/.julia/environments/v1.2/Project.toml`\n",
      " [no changes]\n",
      "  Updating `~/.julia/environments/v1.2/Manifest.toml`\n",
      " [no changes]\n",
      " Resolving package versions...\n",
      "  Updating `~/.julia/environments/v1.2/Project.toml`\n",
      " [no changes]\n",
      "  Updating `~/.julia/environments/v1.2/Manifest.toml`\n",
      " [no changes]\n"
     ]
    },
    {
     "name": "stderr",
     "output_type": "stream",
     "text": [
      "WARNING: Method definition ChainModel(Any) in module KnetONNX at /Users/egeersu/Desktop/KnetONNX/ChainModel.jl:5 overwritten at /Users/egeersu/Desktop/KnetONNX/ChainModel.jl:8.\n",
      "  ** incremental compilation may be fatally broken for this module **\n",
      "\n"
     ]
    }
   ],
   "source": [
    "push!(LOAD_PATH, \".\");\n",
    "using Knet; using KnetONNX;"
   ]
  },
  {
   "cell_type": "code",
   "execution_count": 2,
   "metadata": {},
   "outputs": [],
   "source": [
    "#rnn_graph = KnetONNX.ONNXtoGraph(\"rnn.onnx\");"
   ]
  },
  {
   "cell_type": "code",
   "execution_count": 7,
   "metadata": {},
   "outputs": [],
   "source": [
    "g = KnetONNX.ONNXtoGraph(\"branch1.onnx\");"
   ]
  },
  {
   "cell_type": "code",
   "execution_count": 10,
   "metadata": {},
   "outputs": [
    {
     "name": "stdout",
     "output_type": "stream",
     "text": [
      "(op1) Gemm\n",
      "\tinput1: input\n",
      "\tinput2: linear1.weight\n",
      "\tinput3: linear1.bias\n",
      "\toutput1: 5\n",
      "(op2) Gemm\n",
      "\tinput1: input\n",
      "\tinput2: linear2.weight\n",
      "\tinput3: linear2.bias\n",
      "\toutput1: 6\n",
      "(op3) Concat\n",
      "\tinput1: 5\n",
      "\tinput2: 6\n",
      "\toutput1: 7\n"
     ]
    }
   ],
   "source": [
    "KnetONNX.Display_Graph(g)"
   ]
  },
  {
   "cell_type": "code",
   "execution_count": 13,
   "metadata": {},
   "outputs": [
    {
     "data": {
      "text/plain": [
       "Dict{Any,Any} with 4 entries:\n",
       "  \"linear1.bias\"   => Float32[0.0323095, 0.000534631, 0.0573588, 0.0565376, 0.0…\n",
       "  \"linear2.weight\" => Float32[0.00545345 -0.015289 … -0.000384606 0.0639826; 0.…\n",
       "  \"linear2.bias\"   => Float32[-0.00717323, -0.021392, -0.0166236, -0.0367649, -…\n",
       "  \"linear1.weight\" => Float32[-0.0490536 0.0559044 … 0.0472324 0.0384648; -0.05…"
      ]
     },
     "execution_count": 13,
     "metadata": {},
     "output_type": "execute_result"
    }
   ],
   "source": [
    "g.initializer"
   ]
  },
  {
   "cell_type": "code",
   "execution_count": 25,
   "metadata": {},
   "outputs": [],
   "source": [
    "mutable struct KnetModel\n",
    "    tensors\n",
    "end\n",
    "\n",
    "function KnetModel(g::KnetONNX.Types.Graph)\n",
    "    tensors = TensorDict(g)\n",
    "    KnetModel(tensors)\n",
    "end\n",
    "\n",
    "function TensorDict(g::KnetONNX.Types.Graph)\n",
    "    tensors = Dict()\n",
    "    \n",
    "    # add all tensors to tensors\n",
    "    for node in g.node\n",
    "        for input in node.input; tensors[input] = 0; end\n",
    "        for output in node.output; tensors[output] = 0; end\n",
    "    end\n",
    "    \n",
    "    # get all weights that are present\n",
    "    for (node, value) in g.initializer; tensors[node] = value; end\n",
    "    tensors\n",
    "end\n",
    "\n",
    "model = KnetModel(g);"
   ]
  }
 ],
 "metadata": {
  "kernelspec": {
   "display_name": "Julia 1.2.0",
   "language": "julia",
   "name": "julia-1.2"
  },
  "language_info": {
   "file_extension": ".jl",
   "mimetype": "application/julia",
   "name": "julia",
   "version": "1.2.0"
  }
 },
 "nbformat": 4,
 "nbformat_minor": 2
}
