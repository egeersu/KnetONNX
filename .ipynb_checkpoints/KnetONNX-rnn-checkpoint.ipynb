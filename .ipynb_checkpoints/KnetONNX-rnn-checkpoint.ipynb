{
 "cells": [
  {
   "cell_type": "code",
   "execution_count": 7,
   "metadata": {},
   "outputs": [],
   "source": [
    "push!(LOAD_PATH, \".\");\n",
    "using Knet; using KnetONNX;"
   ]
  },
  {
   "cell_type": "code",
   "execution_count": 26,
   "metadata": {},
   "outputs": [],
   "source": [
    "#rnn_graph = KnetONNX.ONNXtoGraph(\"rnn.onnx\");"
   ]
  },
  {
   "cell_type": "code",
   "execution_count": 27,
   "metadata": {},
   "outputs": [],
   "source": [
    "g = KnetONNX.ONNXtoGraph(\"branch1.onnx\");"
   ]
  },
  {
   "cell_type": "code",
   "execution_count": 40,
   "metadata": {},
   "outputs": [
    {
     "name": "stdout",
     "output_type": "stream",
     "text": [
      "(op1) Gemm\n",
      "\tinput1: input\n",
      "\tinput2: linear1.weight\n",
      "\tinput3: linear1.bias\n",
      "\toutput1: 5\n",
      "(op2) Gemm\n",
      "\tinput1: input\n",
      "\tinput2: linear2.weight\n",
      "\tinput3: linear2.bias\n",
      "\toutput1: 6\n",
      "(op3) Concat\n",
      "\tinput1: 5\n",
      "\tinput2: 6\n",
      "\toutput1: 7\n"
     ]
    }
   ],
   "source": [
    "KnetONNX.Display_Graph(g)"
   ]
  },
  {
   "cell_type": "code",
   "execution_count": 71,
   "metadata": {},
   "outputs": [
    {
     "data": {
      "text/plain": [
       "Nothing"
      ]
     },
     "execution_count": 71,
     "metadata": {},
     "output_type": "execute_result"
    }
   ],
   "source": [
    "mutable struct KnetModel\n",
    "    tensors\n",
    "    graph\n",
    "end\n",
    "\n",
    "function KnetModel(g::KnetONNX.Types.Graph)\n",
    "    tensors = TensorDict(g)\n",
    "    KnetModel(tensors, g)\n",
    "end\n",
    "\n",
    "function (k::KnetModel)(x)\n",
    "    \n",
    "    k.tensors[k.graph.input[1].name] = x\n",
    "    \n",
    "    # only has initial inputs at start\n",
    "    current_tensors = []\n",
    "    for input in k.graph.input; push!(current_tensors, input.name); end\n",
    "    \n",
    "    # recurse until there are no empty tensors \n",
    "    \n",
    "    to_do = []\n",
    "    for tensor in current_tensors\n",
    "        ops = GetOperations(tensor)\n",
    "        tensor_val = k.tensors[tensor]\n",
    "        #println(size(tensor_val))\n",
    "        for op in ops\n",
    "            outs = op(tensor_val)\n",
    "        end\n",
    "    end\n",
    "    \n",
    "    out_tensor = k.graph.output[1].name\n",
    "    k.tensors[out_tensor]\n",
    "    \n",
    "    #=\n",
    "    # remove ! to test\n",
    "    while !(Nothing in values(k.tensors))\n",
    "       \n",
    "    end\n",
    "    =#\n",
    "end\n",
    "\n",
    "function TensorDict(g::KnetONNX.Types.Graph)\n",
    "    tensors = Dict()\n",
    "    \n",
    "    # add all tensors to tensors\n",
    "    for node in g.node\n",
    "        for input in node.input; tensors[input] = Nothing; end\n",
    "        for output in node.output; tensors[output] = Nothing; end\n",
    "    end\n",
    "    \n",
    "    # get all weights that are present\n",
    "    for (node, value) in g.initializer; tensors[node] = value; end\n",
    "    tensors\n",
    "end\n",
    "\n",
    "model = KnetModel(g);\n",
    "x1 = randn(200,50)\n",
    "model(x1)"
   ]
  },
  {
   "cell_type": "code",
   "execution_count": 45,
   "metadata": {},
   "outputs": [
    {
     "data": {
      "text/plain": [
       "2-element Array{Any,1}:\n",
       " KnetONNX.KnetLayers.Linear(KnetONNX.KnetLayers.Multiply(Float32[-0.049053647 -0.05550183 … -0.008055784 -0.010949526; 0.05590441 -0.05613706 … 0.037194066 0.07028211; … ; 0.047232382 -0.057698272 … 0.034999378 -0.0059031695; 0.038464792 0.03432218 … 0.043625668 -0.020920373]), Float32[0.032309465, 0.0005346313, 0.057358764, 0.056537636, 0.023012184, 0.0029791072, 0.020001046, -0.0022484437, 0.059183754, -0.030390367])                                                                                                                                             \n",
       " KnetONNX.KnetLayers.Linear(KnetONNX.KnetLayers.Multiply(Float32[0.005453445 0.053825937 … 0.0034098253 0.04621038; -0.015288971 0.031616233 … 0.032268137 -0.046610244; … ; -0.00038460642 -0.009705905 … -0.004277818 0.027639128; 0.06398264 0.020679243 … -0.007438183 0.0140303]), Float32[-0.0071732327, -0.021391973, -0.016623612, -0.03676491, -0.021470096, -0.035028543, -0.033230893, -0.040592913, 0.034148365, 0.01563479  …  0.06523732, -0.06991985, -0.053619813, -0.0092127435, -0.0009769574, -0.011679549, 0.028914869, 0.04575158, 0.005706474, -0.032416448])"
      ]
     },
     "execution_count": 45,
     "metadata": {},
     "output_type": "execute_result"
    }
   ],
   "source": [
    "function GetOperations(tensor_name)\n",
    "    operations = []\n",
    "    for node in g.node\n",
    "        if tensor_name in node.input; push!(operations, KnetONNX.node_to_layer(node, g)); end\n",
    "    end\n",
    "    operations\n",
    "end\n",
    "        \n",
    "GetOperations(\"input\") "
   ]
  },
  {
   "cell_type": "code",
   "execution_count": null,
   "metadata": {},
   "outputs": [],
   "source": [
    "gemm1 = g.node[1]\n",
    "KnetONNX.node_to_layer(gemm1, g)\n",
    "gemm1.op_type"
   ]
  },
  {
   "cell_type": "code",
   "execution_count": null,
   "metadata": {},
   "outputs": [],
   "source": [
    "mutable struct ComputationalGraph\n",
    "    operations\n",
    "end\n",
    "\n",
    "function (c::ComputationalGraph)(inputs)\n",
    "    \n",
    "end\n",
    "\n",
    "mutable struct operation\n",
    "    prev_operation\n",
    "    layer\n",
    "    next_operation\n",
    "end"
   ]
  },
  {
   "cell_type": "code",
   "execution_count": null,
   "metadata": {},
   "outputs": [],
   "source": [
    "#LAYERS\n",
    "layer_double = (x->x*2)\n",
    "layer_add = ((x,y)->x+y)"
   ]
  },
  {
   "cell_type": "code",
   "execution_count": null,
   "metadata": {},
   "outputs": [],
   "source": [
    "coM"
   ]
  }
 ],
 "metadata": {
  "kernelspec": {
   "display_name": "Julia 1.2.0",
   "language": "julia",
   "name": "julia-1.2"
  },
  "language_info": {
   "file_extension": ".jl",
   "mimetype": "application/julia",
   "name": "julia",
   "version": "1.2.0"
  }
 },
 "nbformat": 4,
 "nbformat_minor": 2
}
