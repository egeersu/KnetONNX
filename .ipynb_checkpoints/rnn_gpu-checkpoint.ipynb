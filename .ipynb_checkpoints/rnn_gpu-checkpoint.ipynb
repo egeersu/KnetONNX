{
 "cells": [
  {
   "cell_type": "code",
   "execution_count": 1,
   "metadata": {
    "scrolled": true
   },
   "outputs": [
    {
     "data": {
      "text/plain": [
       "4-element Array{String,1}:\n",
       " \"@\"      \n",
       " \"@v#.#\"  \n",
       " \"@stdlib\"\n",
       " \".\"      "
      ]
     },
     "execution_count": 1,
     "metadata": {},
     "output_type": "execute_result"
    }
   ],
   "source": [
    "push!(LOAD_PATH, \".\")"
   ]
  },
  {
   "cell_type": "code",
   "execution_count": 2,
   "metadata": {},
   "outputs": [],
   "source": [
    "using Knet"
   ]
  },
  {
   "cell_type": "code",
   "execution_count": 3,
   "metadata": {},
   "outputs": [],
   "source": [
    "using KnetONNX;"
   ]
  },
  {
   "cell_type": "code",
   "execution_count": 4,
   "metadata": {},
   "outputs": [
    {
     "data": {
      "text/plain": [
       "KnetONNX.KnetLayers.Filtering{typeof(conv4)}(P(KnetArray{Float32,4}(3,3,3,64)), P(KnetArray{Float32,4}(1,1,64,1)), KnetONNX.KnetLayers.ReLU(), (stride = 1, upscale = 1, mode = 0, alpha = 1, padding = 0))"
      ]
     },
     "execution_count": 4,
     "metadata": {},
     "output_type": "execute_result"
    }
   ],
   "source": [
    "c1 = KnetONNX.KnetLayers.Conv(;height=3, width=3, inout = 3 => 64)"
   ]
  },
  {
   "cell_type": "code",
   "execution_count": 6,
   "metadata": {},
   "outputs": [],
   "source": [
    "x1 = randn(Float32,224,224,3,10);"
   ]
  },
  {
   "cell_type": "code",
   "execution_count": 7,
   "metadata": {},
   "outputs": [
    {
     "ename": "MethodError",
     "evalue": "MethodError: no method matching conv4(::KnetArray{Float32,4}, ::Array{Float32,4}; stride=1, upscale=1, mode=0, alpha=1, padding=0)\nClosest candidates are:\n  conv4(::KnetArray{T,N} where N, !Matched::KnetArray{T,N} where N; handle, alpha, o...) where T at /home/ec2-user/.julia/packages/Knet/IIjk8/src/conv.jl:38\n  conv4(::##1030, !Matched::AutoGrad.Value{##1031}; o...) where {##1030, ##1031} at none:0\n  conv4(!Matched::AutoGrad.Value{##1030}, ::##1031; o...) where {##1030, ##1031} at none:0\n  ...",
     "output_type": "error",
     "traceback": [
      "MethodError: no method matching conv4(::KnetArray{Float32,4}, ::Array{Float32,4}; stride=1, upscale=1, mode=0, alpha=1, padding=0)\nClosest candidates are:\n  conv4(::KnetArray{T,N} where N, !Matched::KnetArray{T,N} where N; handle, alpha, o...) where T at /home/ec2-user/.julia/packages/Knet/IIjk8/src/conv.jl:38\n  conv4(::##1030, !Matched::AutoGrad.Value{##1031}; o...) where {##1030, ##1031} at none:0\n  conv4(!Matched::AutoGrad.Value{##1030}, ::##1031; o...) where {##1030, ##1031} at none:0\n  ...",
      "",
      "Stacktrace:",
      " [1] #forw#1(::Base.Iterators.Pairs{Symbol,Int64,NTuple{5,Symbol},NamedTuple{(:stride, :upscale, :mode, :alpha, :padding),NTuple{5,Int64}}}, ::typeof(AutoGrad.forw), ::Function, ::Param{KnetArray{Float32,4}}, ::Vararg{Any,N} where N) at /home/ec2-user/.julia/packages/AutoGrad/9MrCC/src/core.jl:66",
      " [2] #forw at ./none:0 [inlined]",
      " [3] #conv4#276 at ./none:0 [inlined]",
      " [4] (::getfield(Knet, Symbol(\"#kw##conv4\")))(::NamedTuple{(:stride, :upscale, :mode, :alpha, :padding),NTuple{5,Int64}}, ::typeof(conv4), ::Param{KnetArray{Float32,4}}, ::Array{Float32,4}) at ./none:0",
      " [5] (::KnetONNX.KnetLayers.Filtering{typeof(conv4)})(::Array{Float32,4}) at /home/ec2-user/KnetONNX/KnetLayers/src/cnn.jl:85",
      " [6] top-level scope at In[7]:1"
     ]
    }
   ],
   "source": [
    "c1(x1)"
   ]
  },
  {
   "cell_type": "code",
   "execution_count": 8,
   "metadata": {},
   "outputs": [],
   "source": [
    "model = ONNXtoKnet(\"vgg16.onnx\");"
   ]
  },
  {
   "cell_type": "code",
   "execution_count": 22,
   "metadata": {},
   "outputs": [
    {
     "name": "stdout",
     "output_type": "stream",
     "text": [
      "224×224×3×10 Array{Float32,4}\n",
      "input size: (224, 224, 3, 10)\n"
     ]
    },
    {
     "ename": "MethodError",
     "evalue": "MethodError: no method matching conv4(::Base.ReshapedArray{Float32,4,Base.ReinterpretArray{Float32,1,Float32,Array{Float32,1}},Tuple{}}, ::Array{Float32,4}; stride=1, upscale=1, mode=0, alpha=1, padding=1)\nClosest candidates are:\n  conv4(::AbstractArray{T,N}, ::AbstractArray{T,N}; padding, stride, dilation, mode, alpha) where {T, N} at /home/ec2-user/.julia/packages/Knet/IIjk8/src/conv.jl:157 got unsupported keyword argument \"upscale\"\n  conv4(::##1030, !Matched::AutoGrad.Value{##1031}; o...) where {##1030, ##1031} at none:0\n  conv4(!Matched::AutoGrad.Value{##1030}, ::##1031; o...) where {##1030, ##1031} at none:0",
     "output_type": "error",
     "traceback": [
      "MethodError: no method matching conv4(::Base.ReshapedArray{Float32,4,Base.ReinterpretArray{Float32,1,Float32,Array{Float32,1}},Tuple{}}, ::Array{Float32,4}; stride=1, upscale=1, mode=0, alpha=1, padding=1)\nClosest candidates are:\n  conv4(::AbstractArray{T,N}, ::AbstractArray{T,N}; padding, stride, dilation, mode, alpha) where {T, N} at /home/ec2-user/.julia/packages/Knet/IIjk8/src/conv.jl:157 got unsupported keyword argument \"upscale\"\n  conv4(::##1030, !Matched::AutoGrad.Value{##1031}; o...) where {##1030, ##1031} at none:0\n  conv4(!Matched::AutoGrad.Value{##1030}, ::##1031; o...) where {##1030, ##1031} at none:0",
      "",
      "Stacktrace:",
      " [1] kwerr(::NamedTuple{(:stride, :upscale, :mode, :alpha, :padding),NTuple{5,Int64}}, ::Function, ::Base.ReshapedArray{Float32,4,Base.ReinterpretArray{Float32,1,Float32,Array{Float32,1}},Tuple{}}, ::Array{Float32,4}) at ./error.jl:125",
      " [2] (::getfield(Knet, Symbol(\"#kw##conv4\")))(::NamedTuple{(:stride, :upscale, :mode, :alpha, :padding),NTuple{5,Int64}}, ::typeof(conv4), ::Base.ReshapedArray{Float32,4,Base.ReinterpretArray{Float32,1,Float32,Array{Float32,1}},Tuple{}}, ::Array{Float32,4}) at ./none:0",
      " [3] (::KnetONNX.KnetLayers.Filtering{typeof(conv4)})(::Array{Float32,4}) at /home/ec2-user/KnetONNX/KnetLayers/src/cnn.jl:85",
      " [4] (::KnetONNX.KnetModel)(::Array{Float32,4}) at /home/ec2-user/KnetONNX/KnetModel.jl:11",
      " [5] top-level scope at In[22]:2"
     ]
    }
   ],
   "source": [
    "x = randn(Float32,224,224,3,10); println(summary(x))\n",
    "model(x)"
   ]
  },
  {
   "cell_type": "code",
   "execution_count": null,
   "metadata": {},
   "outputs": [],
   "source": [
    "size(model.layers[1].weight)"
   ]
  },
  {
   "cell_type": "code",
   "execution_count": null,
   "metadata": {},
   "outputs": [],
   "source": [
    "#@doc KnetONNX.KnetLayers.Conv\n",
    "@doc Conv"
   ]
  },
  {
   "cell_type": "code",
   "execution_count": null,
   "metadata": {},
   "outputs": [],
   "source": [
    "c1 = KnetONNX.KnetLayers.Conv(;height=3, width=3, inout = 3 => 64)"
   ]
  },
  {
   "cell_type": "code",
   "execution_count": null,
   "metadata": {},
   "outputs": [],
   "source": [
    "x = KnetArray(randn(Float32,224,224,3))\n",
    "c1(x)"
   ]
  },
  {
   "cell_type": "code",
   "execution_count": null,
   "metadata": {},
   "outputs": [],
   "source": [
    "c1(x)"
   ]
  }
 ],
 "metadata": {
  "@webio": {
   "lastCommId": null,
   "lastKernelId": null
  },
  "kernelspec": {
   "display_name": "Julia 1.2.0",
   "language": "julia",
   "name": "julia-1.2"
  },
  "language_info": {
   "file_extension": ".jl",
   "mimetype": "application/julia",
   "name": "julia",
   "version": "1.2.0"
  }
 },
 "nbformat": 4,
 "nbformat_minor": 2
}
