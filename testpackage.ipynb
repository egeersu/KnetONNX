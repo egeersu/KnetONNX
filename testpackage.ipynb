{
 "cells": [
  {
   "cell_type": "code",
   "execution_count": 1,
   "metadata": {},
   "outputs": [
    {
     "data": {
      "text/plain": [
       "4-element Array{String,1}:\n",
       " \"@\"      \n",
       " \"@v#.#\"  \n",
       " \"@stdlib\"\n",
       " \".\"      "
      ]
     },
     "execution_count": 1,
     "metadata": {},
     "output_type": "execute_result"
    }
   ],
   "source": [
    "push!(LOAD_PATH, \".\")"
   ]
  },
  {
   "cell_type": "code",
   "execution_count": 2,
   "metadata": {
    "scrolled": true
   },
   "outputs": [
    {
     "name": "stderr",
     "output_type": "stream",
     "text": [
      "┌ Info: Recompiling stale cache file /Users/egeersu/.julia/compiled/v1.1/KnetONNX.ji for KnetONNX [top-level]\n",
      "└ @ Base loading.jl:1184\n",
      "WARNING: Method definition iterate(DataFlow.ObjectArraySet{T} where T, Any...) in module DataFlow at /Users/egeersu/.julia/packages/Lazy/ZAeCx/src/macros.jl:285 overwritten at /Users/egeersu/.julia/packages/Lazy/ZAeCx/src/macros.jl:285.\n",
      "WARNING: Method definition iterate(DataFlow.ObjectArraySet{T} where T, Any...) in module DataFlow at /Users/egeersu/.julia/packages/Lazy/ZAeCx/src/macros.jl:285 overwritten at /Users/egeersu/.julia/packages/Lazy/ZAeCx/src/macros.jl:285.\n",
      "WARNING: Method definition iterate(DataFlow.ObjectArraySet{T} where T, Any...) in module DataFlow at /Users/egeersu/.julia/packages/Lazy/ZAeCx/src/macros.jl:285 overwritten at /Users/egeersu/.julia/packages/Lazy/ZAeCx/src/macros.jl:285.\n",
      "WARNING: Method definition KnetModel(Any) in module KnetONNX at /Users/egeersu/Desktop/KnetONNX/KnetModel.jl:5 overwritten at /Users/egeersu/Desktop/KnetONNX/KnetModel.jl:8.\n"
     ]
    }
   ],
   "source": [
    "using KnetONNX;"
   ]
  },
  {
   "cell_type": "code",
   "execution_count": 3,
   "metadata": {},
   "outputs": [
    {
     "name": "stdout",
     "output_type": "stream",
     "text": [
      "Constant\n",
      "Shape\n",
      "Gather\n",
      "Constant\n",
      "Constant\n",
      "Unsqueeze\n",
      "Unsqueeze\n",
      "Unsqueeze\n",
      "Concat\n",
      "ConstantOfShape\n",
      "Concat\n",
      "Unsqueeze\n",
      "Unsqueeze\n",
      "Unsqueeze\n",
      "RNN\n",
      "Squeeze\n"
     ]
    }
   ],
   "source": [
    "g1 = KnetONNX.ONNXtoGraph(\"rnn1.onnx\");\n",
    "for n in g1.node\n",
    "    println(n.op_type)\n",
    "end"
   ]
  },
  {
   "cell_type": "code",
   "execution_count": 10,
   "metadata": {},
   "outputs": [
    {
     "data": {
      "text/plain": [
       "6-element Array{AbstractString,1}:\n",
       " \"input\"\n",
       " \"17\"   \n",
       " \"18\"   \n",
       " \"19\"   \n",
       " \"\"     \n",
       " \"14\"   "
      ]
     },
     "execution_count": 10,
     "metadata": {},
     "output_type": "execute_result"
    }
   ],
   "source": [
    "rnn1 = g1.node[15]\n",
    "rnn1.input"
   ]
  },
  {
   "cell_type": "code",
   "execution_count": null,
   "metadata": {},
   "outputs": [],
   "source": []
  },
  {
   "cell_type": "code",
   "execution_count": 9,
   "metadata": {
    "scrolled": true
   },
   "outputs": [],
   "source": [
    "#Test: yolov2\n",
    "model = ONNXtoKnet(\"yolov2.onnx\");"
   ]
  },
  {
   "cell_type": "code",
   "execution_count": 16,
   "metadata": {},
   "outputs": [
    {
     "name": "stdout",
     "output_type": "stream",
     "text": [
      "1   (416, 416, 3, 1)\n",
      "2   (414, 414, 16, 1)\n",
      "3   (207, 207, 16, 1)\n",
      "4   (205, 205, 32, 1)\n",
      "5   (102, 102, 32, 1)\n",
      "6   (100, 100, 64, 1)\n",
      "7   (50, 50, 64, 1)\n",
      "8   (48, 48, 128, 1)\n",
      "9   (24, 24, 128, 1)\n",
      "10   (22, 22, 256, 1)\n",
      "11   (11, 11, 256, 1)\n",
      "12   (9, 9, 512, 1)\n",
      "13   (8, 8, 512, 1)\n",
      "14   (6, 6, 1024, 1)\n",
      "15   (4, 4, 1024, 1)\n",
      "16   (4, 4, 125, 1)\n"
     ]
    }
   ],
   "source": [
    "x1 = randn(Float32,416,416,3,1)\n",
    "i = 1\n",
    "for layer in model.layers\n",
    "    print(i)\n",
    "    x1 = layer(x1)\n",
    "    println(\"   \", size(x1))\n",
    "    i+=1\n",
    "end"
   ]
  },
  {
   "cell_type": "code",
   "execution_count": 19,
   "metadata": {},
   "outputs": [
    {
     "name": "stdout",
     "output_type": "stream",
     "text": [
      "(416, 416, 3, 1)\n",
      "(416, 416, 3, 1)\n",
      "(414, 414, 16, 1)\n",
      "(207, 207, 16, 1)\n",
      "(205, 205, 32, 1)\n",
      "(102, 102, 32, 1)\n",
      "(100, 100, 64, 1)\n",
      "(50, 50, 64, 1)\n",
      "(48, 48, 128, 1)\n",
      "(24, 24, 128, 1)\n",
      "(22, 22, 256, 1)\n",
      "(11, 11, 256, 1)\n",
      "(9, 9, 512, 1)\n",
      "(8, 8, 512, 1)\n",
      "(6, 6, 1024, 1)\n",
      "(4, 4, 1024, 1)\n",
      "(4, 4, 125, 1)\n"
     ]
    }
   ],
   "source": [
    "x1 = randn(Float32,416,416,3,1)\n",
    "model(x1);"
   ]
  },
  {
   "cell_type": "code",
   "execution_count": null,
   "metadata": {},
   "outputs": [],
   "source": []
  },
  {
   "cell_type": "code",
   "execution_count": null,
   "metadata": {},
   "outputs": [],
   "source": [
    "KL = include(\"./KnetLayers/src/KnetLayers.jl\")"
   ]
  }
 ],
 "metadata": {
  "kernelspec": {
   "display_name": "Julia 1.1.0",
   "language": "julia",
   "name": "julia-1.1"
  },
  "language_info": {
   "file_extension": ".jl",
   "mimetype": "application/julia",
   "name": "julia",
   "version": "1.1.0"
  }
 },
 "nbformat": 4,
 "nbformat_minor": 2
}
