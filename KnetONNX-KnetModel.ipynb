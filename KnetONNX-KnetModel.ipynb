{
 "cells": [
  {
   "cell_type": "code",
   "execution_count": 11,
   "metadata": {},
   "outputs": [],
   "source": [
    "push!(LOAD_PATH, \".\");\n",
    "using Knet; using KnetONNX;"
   ]
  },
  {
   "cell_type": "code",
   "execution_count": 3,
   "metadata": {},
   "outputs": [],
   "source": [
    "#rnn_graph = KnetONNX.ONNXtoGraph(\"rnn.onnx\");"
   ]
  },
  {
   "cell_type": "code",
   "execution_count": 158,
   "metadata": {},
   "outputs": [],
   "source": [
    "g = KnetONNX.ONNXtoGraph(\"rnn.onnx\");"
   ]
  },
  {
   "cell_type": "code",
   "execution_count": 159,
   "metadata": {},
   "outputs": [
    {
     "name": "stdout",
     "output_type": "stream",
     "text": [
      "model inputs: [\"input.1\"]\n",
      "model outputs: [\"25\"]\n",
      "(op1) Constant\n",
      "\toutput1: 7\n",
      "(op2) Shape\n",
      "\tinput1: input.1\n",
      "\toutput1: 8\n",
      "(op3) Gather\n",
      "\tinput1: 8\n",
      "\tinput2: 7\n",
      "\toutput1: 9\n",
      "(op4) Constant\n",
      "\toutput1: 10\n",
      "(op5) Constant\n",
      "\toutput1: 11\n",
      "(op6) Unsqueeze\n",
      "\tinput1: 10\n",
      "\toutput1: 12\n",
      "(op7) Unsqueeze\n",
      "\tinput1: 9\n",
      "\toutput1: 13\n",
      "(op8) Unsqueeze\n",
      "\tinput1: 11\n",
      "\toutput1: 14\n",
      "(op9) Concat\n",
      "\tinput1: 12\n",
      "\tinput2: 13\n",
      "\tinput3: 14\n",
      "\toutput1: 15\n",
      "(op10) ConstantOfShape\n",
      "\tinput1: 15\n",
      "\toutput1: 16\n",
      "(op11) Concat\n",
      "\tinput1: rnn.bias_ih_l0\n",
      "\tinput2: rnn.bias_hh_l0\n",
      "\toutput1: 18\n",
      "(op12) Unsqueeze\n",
      "\tinput1: rnn.weight_ih_l0\n",
      "\toutput1: 19\n",
      "(op13) Unsqueeze\n",
      "\tinput1: rnn.weight_hh_l0\n",
      "\toutput1: 20\n",
      "(op14) Unsqueeze\n",
      "\tinput1: 18\n",
      "\toutput1: 21\n",
      "(op15) RNN\n",
      "\tinput1: input.1\n",
      "\tinput2: 19\n",
      "\tinput3: 20\n",
      "\tinput4: 21\n",
      "\tinput5: \n",
      "\tinput6: 16\n",
      "\toutput1: 22\n",
      "\toutput2: 23\n",
      "(op16) Squeeze\n",
      "\tinput1: 23\n",
      "\toutput1: 24\n",
      "(op17) Gemm\n",
      "\tinput1: 24\n",
      "\tinput2: linear.weight\n",
      "\tinput3: linear.bias\n",
      "\toutput1: 25\n"
     ]
    }
   ],
   "source": [
    "KnetONNX.Display_Graph(g)"
   ]
  },
  {
   "cell_type": "code",
   "execution_count": 153,
   "metadata": {},
   "outputs": [
    {
     "data": {
      "text/plain": [
       "get_ModelLayers (generic function with 1 method)"
      ]
     },
     "execution_count": 153,
     "metadata": {},
     "output_type": "execute_result"
    }
   ],
   "source": [
    "struct ModelLayer\n",
    "    inputs #list of strings\n",
    "    layer # a KnetLayer\n",
    "    outputs #list of strings\n",
    "end\n",
    "\n",
    "function ModelLayer(node, g)\n",
    "    ModelLayer(node.input, KnetONNX.node_to_layer(node, g), node.output)\n",
    "end\n",
    "\n",
    "(m::ModelLayer)(x) = m.layer(x)\n",
    "\n",
    "function get_ModelLayers(g)\n",
    "    ModelLayers = []\n",
    "    for node in g.node; push!(ModelLayers, ModelLayer(node, g)); end\n",
    "    return ModelLayers\n",
    "end"
   ]
  },
  {
   "cell_type": "code",
   "execution_count": 154,
   "metadata": {},
   "outputs": [
    {
     "data": {
      "text/plain": [
       "GetPrevLayers (generic function with 1 method)"
      ]
     },
     "execution_count": 154,
     "metadata": {},
     "output_type": "execute_result"
    }
   ],
   "source": [
    "function GetNextLayers(k::KnetModel, tensor)\n",
    "    next_layers = []\n",
    "    for layer in k.model_layers\n",
    "        if tensor in layer.inputs; push!(next_layers, layer); end\n",
    "    end\n",
    "    next_layers #returns a list of ModelLayer s\n",
    "end\n",
    "\n",
    "function GetPrevLayers(k::KnetModel, tensor)\n",
    "    prev_layers = []\n",
    "    for layer in k.model_layers\n",
    "        if tensor in layer.outputs; push!(prev_layers, layer); end\n",
    "    end\n",
    "    prev_layers\n",
    "end"
   ]
  },
  {
   "cell_type": "code",
   "execution_count": 155,
   "metadata": {},
   "outputs": [
    {
     "data": {
      "text/plain": [
       "TensorDict (generic function with 1 method)"
      ]
     },
     "execution_count": 155,
     "metadata": {},
     "output_type": "execute_result"
    }
   ],
   "source": [
    "mutable struct KnetModel\n",
    "    tensors\n",
    "    model_layers\n",
    "    model_inputs\n",
    "    model_outputs\n",
    "end\n",
    "\n",
    "function KnetModel(g::KnetONNX.Types.Graph)\n",
    "    tensors = TensorDict(g)\n",
    "    model_layers = get_ModelLayers(g)\n",
    "    model_inputs = [i.name for i in g.input]\n",
    "    model_outputs = [o.name for o in g.output]\n",
    "    KnetModel(tensors, model_layers, model_inputs, model_outputs)\n",
    "end\n",
    "\n",
    "function TensorDict(g::KnetONNX.Types.Graph)\n",
    "    tensors = Dict()\n",
    "    for node in g.node\n",
    "        for input in node.input; tensors[input] = Nothing; end\n",
    "        for output in node.output; tensors[output] = Nothing; end\n",
    "    end\n",
    "    for (node, value) in g.initializer; tensors[node] = value; end\n",
    "    tensors\n",
    "end"
   ]
  },
  {
   "cell_type": "code",
   "execution_count": 156,
   "metadata": {},
   "outputs": [
    {
     "data": {
      "text/plain": [
       "Dict{Any,Any} with 7 entries:\n",
       "  \"linear1.bias\"   => Float32[-0.0184963, -0.118109, -0.0673221, -0.0271394, -0…\n",
       "  \"linear2.weight\" => Float32[-0.13969 0.159885; 0.213339 -0.168219; … ; -0.148…\n",
       "  \"5\"              => Nothing\n",
       "  \"linear2.bias\"   => Float32[-0.0740539, -0.222461]\n",
       "  \"input.1\"        => [-0.344285 -2.56986 … -0.621292 -1.24192; -0.305587 1.698…\n",
       "  \"6\"              => Nothing\n",
       "  \"linear1.weight\" => Float32[-0.0163668 0.0803477 … 0.0974571 0.0736016; -0.00…"
      ]
     },
     "execution_count": 156,
     "metadata": {},
     "output_type": "execute_result"
    }
   ],
   "source": [
    "model.tensors"
   ]
  },
  {
   "cell_type": "code",
   "execution_count": 157,
   "metadata": {},
   "outputs": [
    {
     "ename": "LoadError",
     "evalue": "syntax: missing comma or ) in argument list",
     "output_type": "error",
     "traceback": [
      "syntax: missing comma or ) in argument list",
      ""
     ]
    }
   ],
   "source": [
    "function (m::KnetModel)(x)\n",
    "    # first, insert x into model.tensors\n",
    "    m.tensors[m.model_inputs[1]] = x\n",
    "\n",
    "    #com\n",
    "    \n",
    "    compute(m, l\n",
    "\n",
    "    \n",
    "    \n",
    "end\n",
    "\n",
    "model = KnetModel(g);\n",
    "dummy_input = randn(40,5);\n",
    "model(dummy_input)"
   ]
  }
 ],
 "metadata": {
  "kernelspec": {
   "display_name": "Julia 1.2.0",
   "language": "julia",
   "name": "julia-1.2"
  },
  "language_info": {
   "file_extension": ".jl",
   "mimetype": "application/julia",
   "name": "julia",
   "version": "1.2.0"
  }
 },
 "nbformat": 4,
 "nbformat_minor": 2
}
