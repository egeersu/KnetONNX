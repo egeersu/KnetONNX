{
 "cells": [
  {
   "cell_type": "code",
   "execution_count": 1,
   "metadata": {},
   "outputs": [
    {
     "data": {
      "text/plain": [
       "4-element Array{String,1}:\n",
       " \"@\"      \n",
       " \"@v#.#\"  \n",
       " \"@stdlib\"\n",
       " \".\"      "
      ]
     },
     "execution_count": 1,
     "metadata": {},
     "output_type": "execute_result"
    }
   ],
   "source": [
    "push!(LOAD_PATH, \".\")"
   ]
  },
  {
   "cell_type": "code",
   "execution_count": 2,
   "metadata": {
    "scrolled": true
   },
   "outputs": [
    {
     "name": "stderr",
     "output_type": "stream",
     "text": [
      "┌ Info: Recompiling stale cache file /Users/egeersu/.julia/compiled/v1.1/KnetONNX.ji for KnetONNX [top-level]\n",
      "└ @ Base loading.jl:1184\n",
      "WARNING: Method definition iterate(DataFlow.ObjectArraySet{T} where T, Any...) in module DataFlow at /Users/egeersu/.julia/packages/Lazy/mAoZN/src/macros.jl:285 overwritten at /Users/egeersu/.julia/packages/Lazy/mAoZN/src/macros.jl:285.\n",
      "WARNING: Method definition iterate(DataFlow.ObjectArraySet{T} where T, Any...) in module DataFlow at /Users/egeersu/.julia/packages/Lazy/mAoZN/src/macros.jl:285 overwritten at /Users/egeersu/.julia/packages/Lazy/mAoZN/src/macros.jl:285.\n",
      "WARNING: Method definition iterate(DataFlow.ObjectArraySet{T} where T, Any...) in module DataFlow at /Users/egeersu/.julia/packages/Lazy/mAoZN/src/macros.jl:285 overwritten at /Users/egeersu/.julia/packages/Lazy/mAoZN/src/macros.jl:285.\n",
      "WARNING: Method definition KnetModel(Any) in module KnetONNX at /Users/egeersu/Desktop/ONNXKnet/KnetModel.jl:5 overwritten at /Users/egeersu/Desktop/ONNXKnet/KnetModel.jl:8.\n"
     ]
    }
   ],
   "source": [
    "using KnetONNX;\n",
    "using Knet;"
   ]
  },
  {
   "cell_type": "code",
   "execution_count": 3,
   "metadata": {},
   "outputs": [],
   "source": [
    "#Test: vgg16\n",
    "model = ONNXtoKnet(\"vgg16.onnx\");"
   ]
  },
  {
   "cell_type": "code",
   "execution_count": 4,
   "metadata": {},
   "outputs": [
    {
     "name": "stdout",
     "output_type": "stream",
     "text": [
      "input size: (224, 224, 3)\n",
      "layer 1 output size: (224, 224, 64)\n",
      "layer 2 output size: (224, 224, 64)\n",
      "layer 3 output size: (224, 224, 64)\n",
      "layer 4 output size: (224, 224, 64)\n",
      "layer 5 output size: (112, 112, 64, 1)\n",
      "layer 6 output size: (112, 112, 128, 1)\n",
      "layer 7 output size: (112, 112, 128, 1)\n",
      "layer 8 output size: (112, 112, 128, 1)\n",
      "layer 9 output size: (112, 112, 128, 1)\n",
      "layer 10 output size: (56, 56, 128, 1)\n",
      "layer 11 output size: (56, 56, 256, 1)\n",
      "layer 12 output size: (56, 56, 256, 1)\n",
      "layer 13 output size: (56, 56, 256, 1)\n",
      "layer 14 output size: (56, 56, 256, 1)\n",
      "layer 15 output size: (56, 56, 256, 1)\n",
      "layer 16 output size: (56, 56, 256, 1)\n",
      "layer 17 output size: (28, 28, 256, 1)\n",
      "layer 18 output size: (28, 28, 512, 1)\n",
      "layer 19 output size: (28, 28, 512, 1)\n",
      "layer 20 output size: (28, 28, 512, 1)\n",
      "layer 21 output size: (28, 28, 512, 1)\n",
      "layer 22 output size: (28, 28, 512, 1)\n",
      "layer 23 output size: (28, 28, 512, 1)\n",
      "layer 24 output size: (14, 14, 512, 1)\n",
      "layer 25 output size: (14, 14, 512, 1)\n",
      "layer 26 output size: (14, 14, 512, 1)\n",
      "layer 27 output size: (14, 14, 512, 1)\n",
      "layer 28 output size: (14, 14, 512, 1)\n",
      "layer 29 output size: (14, 14, 512, 1)\n",
      "layer 30 output size: (14, 14, 512, 1)\n",
      "layer 31 output size: (7, 7, 512, 1)\n",
      "layer 32 output size: (25088, 1)\n",
      "layer 33 output size: (4096, 1)\n",
      "layer 34 output size: (4096, 1)\n",
      "layer 35 output size: (4096, 1)\n",
      "layer 36 output size: (4096, 1)\n",
      "layer 37 output size: (4096, 1)\n",
      "layer 38 output size: (4096, 1)\n",
      "layer 39 output size: (4096, 1)\n",
      "layer 40 output size: (4096, 1)\n",
      "layer 41 output size: (1000, 1)\n"
     ]
    },
    {
     "data": {
      "text/plain": [
       "1000×1 Array{Float32,2}:\n",
       " -1.0120914   \n",
       " -0.05526756  \n",
       " -0.88437897  \n",
       " -0.5653423   \n",
       "  0.2594603   \n",
       " -0.22221889  \n",
       "  0.4136628   \n",
       " -0.22287807  \n",
       " -0.5284054   \n",
       " -1.7115912   \n",
       " -1.9790573   \n",
       " -1.4471753   \n",
       " -1.5949141   \n",
       "  ⋮           \n",
       " -0.0041467827\n",
       " -0.29556605  \n",
       "  0.11887443  \n",
       " -0.52663594  \n",
       " -0.48943835  \n",
       " -2.1991148   \n",
       " -2.2831585   \n",
       " -1.5751415   \n",
       " -1.185614    \n",
       " -1.3363527   \n",
       "  0.7747093   \n",
       "  1.8653502   "
      ]
     },
     "execution_count": 4,
     "metadata": {},
     "output_type": "execute_result"
    }
   ],
   "source": [
    "x0 = randn(Float32,224,224,3)\n",
    "model(x0)"
   ]
  },
  {
   "cell_type": "code",
   "execution_count": null,
   "metadata": {},
   "outputs": [],
   "source": [
    "g1 = ONNXtoGraph(\"vgg16.onnx\");"
   ]
  },
  {
   "cell_type": "code",
   "execution_count": null,
   "metadata": {},
   "outputs": [],
   "source": [
    "g1.node[5].op_type"
   ]
  },
  {
   "cell_type": "code",
   "execution_count": null,
   "metadata": {},
   "outputs": [],
   "source": [
    "layer5 = model.layers[5]"
   ]
  },
  {
   "cell_type": "code",
   "execution_count": null,
   "metadata": {},
   "outputs": [],
   "source": [
    "@doc KnetONNX.KnetLayers.Sampling"
   ]
  },
  {
   "cell_type": "code",
   "execution_count": null,
   "metadata": {},
   "outputs": [],
   "source": [
    "x1 = randn(4,5,6)\n",
    "reshape(x1, (size(x1)..., 1))"
   ]
  },
  {
   "cell_type": "code",
   "execution_count": null,
   "metadata": {},
   "outputs": [],
   "source": [
    "x0 = randn(Float32,224,224,3)\n",
    "y1 = model.layers[1](x0)\n",
    "y2 = model.layers[2](y1)\n",
    "y3 = model.layers[3](y2)\n",
    "y4 = model.layers[4](y3)"
   ]
  },
  {
   "cell_type": "code",
   "execution_count": null,
   "metadata": {},
   "outputs": [],
   "source": [
    "model.layers[5]\n",
    "y5 = model.layers[5](reshape(y4, 224,224,64,1))"
   ]
  },
  {
   "cell_type": "code",
   "execution_count": null,
   "metadata": {},
   "outputs": [],
   "source": [
    "@doc pool"
   ]
  },
  {
   "cell_type": "code",
   "execution_count": null,
   "metadata": {},
   "outputs": [],
   "source": []
  },
  {
   "cell_type": "code",
   "execution_count": null,
   "metadata": {},
   "outputs": [],
   "source": [
    "x1 = randn(Float32,416,416,3,1)\n",
    "i = 1\n",
    "for layer in model.layers\n",
    "    print(i)\n",
    "    x1 = layer(x1)\n",
    "    println(\"   \", size(x1))\n",
    "    i+=1\n",
    "end"
   ]
  },
  {
   "cell_type": "code",
   "execution_count": null,
   "metadata": {},
   "outputs": [],
   "source": [
    "x1 = randn(Float32,416,416,3,1)\n",
    "model(x1);"
   ]
  },
  {
   "cell_type": "code",
   "execution_count": null,
   "metadata": {},
   "outputs": [],
   "source": [
    "KL = include(\"./KnetLayers/src/KnetLayers.jl\")"
   ]
  }
 ],
 "metadata": {
  "kernelspec": {
   "display_name": "Julia 1.1.0",
   "language": "julia",
   "name": "julia-1.1"
  },
  "language_info": {
   "file_extension": ".jl",
   "mimetype": "application/julia",
   "name": "julia",
   "version": "1.1.0"
  }
 },
 "nbformat": 4,
 "nbformat_minor": 2
}
