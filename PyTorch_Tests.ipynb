{
 "cells": [
  {
   "cell_type": "code",
   "execution_count": 5,
   "metadata": {},
   "outputs": [],
   "source": [
    "push!(LOAD_PATH, \".\");\n",
    "using Knet; using KnetONNX;"
   ]
  },
  {
   "cell_type": "code",
   "execution_count": 2,
   "metadata": {},
   "outputs": [],
   "source": [
    "model = ONNXtoKnet(\"MLP.onnx\");"
   ]
  },
  {
   "cell_type": "code",
   "execution_count": 4,
   "metadata": {},
   "outputs": [
    {
     "data": {
      "text/plain": [
       "2×50 Array{Float64,2}:\n",
       " -0.270726   -0.270726   -0.270726   …  -0.270726   -0.270726   -0.270726 \n",
       "  0.0527943   0.0527943   0.0527943      0.0527943   0.0527943   0.0527943"
      ]
     },
     "execution_count": 4,
     "metadata": {},
     "output_type": "execute_result"
    }
   ],
   "source": [
    "x = ones(100,50)\n",
    "model(x)"
   ]
  },
  {
   "cell_type": "code",
   "execution_count": 7,
   "metadata": {},
   "outputs": [],
   "source": [
    "model = ONNXtoKnet(\"branch1.onnx\");"
   ]
  },
  {
   "cell_type": "code",
   "execution_count": 8,
   "metadata": {},
   "outputs": [
    {
     "data": {
      "text/plain": [
       "10×50 Array{Float64,2}:\n",
       "  0.115668   0.115668   0.115668  …   0.115668   0.115668   0.115668\n",
       "  0.661428   0.661428   0.661428      0.661428   0.661428   0.661428\n",
       "  1.26032    1.26032    1.26032       1.26032    1.26032    1.26032 \n",
       " -0.799757  -0.799757  -0.799757     -0.799757  -0.799757  -0.799757\n",
       " -0.14344   -0.14344   -0.14344      -0.14344   -0.14344   -0.14344 \n",
       "  0.188061   0.188061   0.188061  …   0.188061   0.188061   0.188061\n",
       " -0.815466  -0.815466  -0.815466     -0.815466  -0.815466  -0.815466\n",
       "  1.73175    1.73175    1.73175       1.73175    1.73175    1.73175 \n",
       "  0.508684   0.508684   0.508684      0.508684   0.508684   0.508684\n",
       " -1.20156   -1.20156   -1.20156      -1.20156   -1.20156   -1.20156 "
      ]
     },
     "execution_count": 8,
     "metadata": {},
     "output_type": "execute_result"
    }
   ],
   "source": [
    "model(x)"
   ]
  }
 ],
 "metadata": {
  "kernelspec": {
   "display_name": "Julia 1.2.0",
   "language": "julia",
   "name": "julia-1.2"
  },
  "language_info": {
   "file_extension": ".jl",
   "mimetype": "application/julia",
   "name": "julia",
   "version": "1.2.0"
  }
 },
 "nbformat": 4,
 "nbformat_minor": 2
}
