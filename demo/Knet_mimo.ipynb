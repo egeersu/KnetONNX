{
 "cells": [
  {
   "cell_type": "code",
   "execution_count": 1,
   "metadata": {},
   "outputs": [],
   "source": [
    "push!(LOAD_PATH, \"/Users/egeersu/Desktop/KnetONNX\")\n",
    "using Knet; using KnetONNX;"
   ]
  },
  {
   "cell_type": "code",
   "execution_count": 112,
   "metadata": {},
   "outputs": [
    {
     "data": {
      "text/plain": [
       "\"mimo.onnx\""
      ]
     },
     "execution_count": 112,
     "metadata": {},
     "output_type": "execute_result"
    }
   ],
   "source": [
    "file_path = \"mimo.onnx\""
   ]
  },
  {
   "cell_type": "code",
   "execution_count": 113,
   "metadata": {},
   "outputs": [
    {
     "name": "stdout",
     "output_type": "stream",
     "text": [
      "model inputs: [\"input.1\", \"input\"]\n",
      "model outputs: [\"6\", \"7\"]\n",
      "(op1) Gemm\n",
      "\tinput1: input.1\n",
      "\tinput2: linear_x.weight\n",
      "\tinput3: linear_x.bias\n",
      "\toutput1: 6\n",
      "(op2) Gemm\n",
      "\tinput1: input\n",
      "\tinput2: linear_y.weight\n",
      "\tinput3: linear_y.bias\n",
      "\toutput1: 7\n"
     ]
    }
   ],
   "source": [
    "PrintGraph(ONNXtoGraph(file_path))"
   ]
  },
  {
   "cell_type": "code",
   "execution_count": 114,
   "metadata": {},
   "outputs": [],
   "source": [
    "model = KnetModel(file_path);"
   ]
  },
  {
   "cell_type": "code",
   "execution_count": 115,
   "metadata": {},
   "outputs": [],
   "source": [
    "x_in = 100\n",
    "y_in = 200\n",
    "batch_size = 5;"
   ]
  },
  {
   "cell_type": "code",
   "execution_count": 117,
   "metadata": {},
   "outputs": [],
   "source": [
    "x = ones(x_in, batch_size)\n",
    "y = ones(y_in, batch_size);"
   ]
  },
  {
   "cell_type": "code",
   "execution_count": 118,
   "metadata": {},
   "outputs": [
    {
     "name": "stdout",
     "output_type": "stream",
     "text": [
      "forward begins\n"
     ]
    }
   ],
   "source": [
    "out1, out2 = model([x,y]);"
   ]
  },
  {
   "cell_type": "code",
   "execution_count": 119,
   "metadata": {},
   "outputs": [
    {
     "data": {
      "text/plain": [
       "5×3 LinearAlgebra.Transpose{Float64,Array{Float64,2}}:\n",
       " -0.475165  -0.215335  -0.60178\n",
       " -0.475165  -0.215335  -0.60178\n",
       " -0.475165  -0.215335  -0.60178\n",
       " -0.475165  -0.215335  -0.60178\n",
       " -0.475165  -0.215335  -0.60178"
      ]
     },
     "execution_count": 119,
     "metadata": {},
     "output_type": "execute_result"
    }
   ],
   "source": [
    "transpose(out1)"
   ]
  },
  {
   "cell_type": "code",
   "execution_count": 120,
   "metadata": {},
   "outputs": [
    {
     "data": {
      "text/plain": [
       "5×3 LinearAlgebra.Transpose{Float64,Array{Float64,2}}:\n",
       " -0.387449  0.501429  0.721284\n",
       " -0.387449  0.501429  0.721284\n",
       " -0.387449  0.501429  0.721284\n",
       " -0.387449  0.501429  0.721284\n",
       " -0.387449  0.501429  0.721284"
      ]
     },
     "execution_count": 120,
     "metadata": {},
     "output_type": "execute_result"
    }
   ],
   "source": [
    "transpose(out2)"
   ]
  }
 ],
 "metadata": {
  "kernelspec": {
   "display_name": "Julia 1.2.0",
   "language": "julia",
   "name": "julia-1.2"
  },
  "language_info": {
   "file_extension": ".jl",
   "mimetype": "application/julia",
   "name": "julia",
   "version": "1.2.0"
  }
 },
 "nbformat": 4,
 "nbformat_minor": 2
}
