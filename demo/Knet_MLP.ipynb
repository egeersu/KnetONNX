{
 "cells": [
  {
   "cell_type": "code",
   "execution_count": 1,
   "metadata": {},
   "outputs": [],
   "source": [
    "push!(LOAD_PATH, \"/Users/egeersu/Desktop/KnetONNX\")\n",
    "using Knet; using KnetONNX;"
   ]
  },
  {
   "cell_type": "markdown",
   "metadata": {},
   "source": [
    "## CREATE THE GRAPH"
   ]
  },
  {
   "cell_type": "code",
   "execution_count": 2,
   "metadata": {},
   "outputs": [
    {
     "data": {
      "text/plain": [
       "\"mlp.onnx\""
      ]
     },
     "execution_count": 2,
     "metadata": {},
     "output_type": "execute_result"
    }
   ],
   "source": [
    "file_path = \"mlp.onnx\""
   ]
  },
  {
   "cell_type": "code",
   "execution_count": 3,
   "metadata": {},
   "outputs": [
    {
     "name": "stdout",
     "output_type": "stream",
     "text": [
      "model inputs: [\"input.1\"]\n",
      "model outputs: [\"7\"]\n",
      "(op1) Gemm\n",
      "\tinput1: input.1\n",
      "\tinput2: linear1.weight\n",
      "\tinput3: linear1.bias\n",
      "\toutput1: 5\n",
      "(op2) Gemm\n",
      "\tinput1: 5\n",
      "\tinput2: linear2.weight\n",
      "\tinput3: linear2.bias\n",
      "\toutput1: 6\n",
      "(op3) Relu\n",
      "\tinput1: 6\n",
      "\toutput1: 7\n"
     ]
    }
   ],
   "source": [
    "graph = ONNXtoGraph(file_path)\n",
    "PrintGraph(graph)"
   ]
  },
  {
   "cell_type": "markdown",
   "metadata": {},
   "source": [
    "## CREATE THE MODEL"
   ]
  },
  {
   "cell_type": "code",
   "execution_count": 4,
   "metadata": {},
   "outputs": [],
   "source": [
    "model = KnetModel(file_path);"
   ]
  },
  {
   "cell_type": "code",
   "execution_count": 5,
   "metadata": {},
   "outputs": [
    {
     "data": {
      "text/plain": [
       "Dict{Any,Any} with 4 entries:\n",
       "  \"5\"       => Nothing\n",
       "  \"input.1\" => Nothing\n",
       "  \"6\"       => Nothing\n",
       "  \"7\"       => Nothing"
      ]
     },
     "execution_count": 5,
     "metadata": {},
     "output_type": "execute_result"
    }
   ],
   "source": [
    "model.tensors"
   ]
  },
  {
   "cell_type": "markdown",
   "metadata": {},
   "source": [
    "## Forward Pass"
   ]
  },
  {
   "cell_type": "code",
   "execution_count": 6,
   "metadata": {
    "scrolled": true
   },
   "outputs": [],
   "source": [
    "dummy_input = ones(5,8);"
   ]
  },
  {
   "cell_type": "code",
   "execution_count": 10,
   "metadata": {},
   "outputs": [],
   "source": [
    "out = model(dummy_input);"
   ]
  },
  {
   "cell_type": "code",
   "execution_count": 12,
   "metadata": {},
   "outputs": [
    {
     "data": {
      "text/plain": [
       "8×4 LinearAlgebra.Transpose{Float64,Array{Float64,2}}:\n",
       " 0.37049  0.0  0.0  0.0448057\n",
       " 0.37049  0.0  0.0  0.0448057\n",
       " 0.37049  0.0  0.0  0.0448057\n",
       " 0.37049  0.0  0.0  0.0448057\n",
       " 0.37049  0.0  0.0  0.0448057\n",
       " 0.37049  0.0  0.0  0.0448057\n",
       " 0.37049  0.0  0.0  0.0448057\n",
       " 0.37049  0.0  0.0  0.0448057"
      ]
     },
     "execution_count": 12,
     "metadata": {},
     "output_type": "execute_result"
    }
   ],
   "source": [
    "transpose(out)"
   ]
  },
  {
   "cell_type": "code",
   "execution_count": 14,
   "metadata": {},
   "outputs": [
    {
     "data": {
      "text/plain": [
       "Dict{Any,Any} with 4 entries:\n",
       "  \"5\"       => [-0.847934 -0.847934 … -0.847934 -0.847934; 0.245249 0.245249 … …\n",
       "  \"input.1\" => [1.0 1.0 … 1.0 1.0; 1.0 1.0 … 1.0 1.0; … ; 1.0 1.0 … 1.0 1.0; 1.…\n",
       "  \"6\"       => [0.37049 0.37049 … 0.37049 0.37049; -0.00186268 -0.00186268 … -0…\n",
       "  \"7\"       => [0.37049 0.37049 … 0.37049 0.37049; 0.0 0.0 … 0.0 0.0; 0.0 0.0 ……"
      ]
     },
     "execution_count": 14,
     "metadata": {},
     "output_type": "execute_result"
    }
   ],
   "source": [
    "model.tensors"
   ]
  }
 ],
 "metadata": {
  "kernelspec": {
   "display_name": "Julia 1.2.0",
   "language": "julia",
   "name": "julia-1.2"
  },
  "language_info": {
   "file_extension": ".jl",
   "mimetype": "application/julia",
   "name": "julia",
   "version": "1.2.0"
  }
 },
 "nbformat": 4,
 "nbformat_minor": 2
}
