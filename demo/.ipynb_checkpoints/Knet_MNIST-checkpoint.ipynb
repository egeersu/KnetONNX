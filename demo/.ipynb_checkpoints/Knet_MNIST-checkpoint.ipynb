{
 "cells": [
  {
   "cell_type": "code",
   "execution_count": 3,
   "metadata": {},
   "outputs": [],
   "source": [
    "push!(LOAD_PATH, \"/Users/egeersu/Desktop/KnetONNX\")\n",
    "using Knet; using KnetONNX;"
   ]
  },
  {
   "cell_type": "code",
   "execution_count": 4,
   "metadata": {},
   "outputs": [
    {
     "name": "stderr",
     "output_type": "stream",
     "text": [
      "┌ Info: Loading MNIST...\n",
      "└ @ Main /Users/egeersu/.julia/packages/Knet/HRYiN/data/mnist.jl:33\n"
     ]
    }
   ],
   "source": [
    "import Knet: Data\n",
    "include(Knet.dir(\"data\",\"mnist.jl\"))\n",
    "dtrn,dtst = mnistdata();"
   ]
  },
  {
   "cell_type": "code",
   "execution_count": 5,
   "metadata": {},
   "outputs": [
    {
     "name": "stdout",
     "output_type": "stream",
     "text": [
      "model inputs: [\"input.1\"]\n",
      "model outputs: [\"16\"]\n",
      "(op1) Conv\n",
      "\tinput1: input.1\n",
      "\tinput2: conv1.weight\n",
      "\tinput3: conv1.bias\n",
      "\toutput1: 9\n",
      "(op2) Relu\n",
      "\tinput1: 9\n",
      "\toutput1: 10\n",
      "(op3) Conv\n",
      "\tinput1: 10\n",
      "\tinput2: conv2.weight\n",
      "\tinput3: conv2.bias\n",
      "\toutput1: 11\n",
      "(op4) MaxPool\n",
      "\tinput1: 11\n",
      "\toutput1: 12\n",
      "(op5) Flatten\n",
      "\tinput1: 12\n",
      "\toutput1: 13\n",
      "(op6) Gemm\n",
      "\tinput1: 13\n",
      "\tinput2: fc1.weight\n",
      "\tinput3: fc1.bias\n",
      "\toutput1: 14\n",
      "(op7) Relu\n",
      "\tinput1: 14\n",
      "\toutput1: 15\n",
      "(op8) Gemm\n",
      "\tinput1: 15\n",
      "\tinput2: fc2.weight\n",
      "\tinput3: fc2.bias\n",
      "\toutput1: 16\n"
     ]
    }
   ],
   "source": [
    "file_path = \"cnn.onnx\"\n",
    "graph = ONNXtoGraph(file_path)\n",
    "PrintGraph(graph)"
   ]
  },
  {
   "cell_type": "code",
   "execution_count": 6,
   "metadata": {},
   "outputs": [],
   "source": [
    "model = KnetModel(file_path);"
   ]
  },
  {
   "cell_type": "code",
   "execution_count": 7,
   "metadata": {},
   "outputs": [
    {
     "data": {
      "text/plain": [
       "Dict{Any,Any} with 9 entries:\n",
       "  \"16\"      => Nothing\n",
       "  \"12\"      => Nothing\n",
       "  \"10\"      => Nothing\n",
       "  \"15\"      => Nothing\n",
       "  \"input.1\" => Nothing\n",
       "  \"9\"       => Nothing\n",
       "  \"11\"      => Nothing\n",
       "  \"13\"      => Nothing\n",
       "  \"14\"      => Nothing"
      ]
     },
     "execution_count": 7,
     "metadata": {},
     "output_type": "execute_result"
    }
   ],
   "source": [
    "model.tensors"
   ]
  },
  {
   "cell_type": "code",
   "execution_count": 8,
   "metadata": {},
   "outputs": [
    {
     "name": "stdout",
     "output_type": "stream",
     "text": [
      "forward begins\n"
     ]
    },
    {
     "data": {
      "text/plain": [
       "10×100 Array{Float32,2}:\n",
       "  0.110894    0.102175    0.0995872  …   0.0938386   0.0888642   0.0897656\n",
       " -0.0686795  -0.0612027  -0.0520734     -0.0617134  -0.0625673  -0.0672976\n",
       "  0.117459    0.113067    0.107453       0.107784    0.101659    0.093268 \n",
       "  0.0288035   0.0307574   0.0371381      0.0279197   0.0425142   0.0313918\n",
       " -0.0780305  -0.0921749  -0.081256      -0.0793852  -0.0818217  -0.0755506\n",
       "  0.0280273   0.0289107   0.0299811  …   0.0277363   0.026687    0.0273013\n",
       " -0.0375451  -0.0350449  -0.0278301     -0.0314806  -0.0438203  -0.0330162\n",
       " -0.0356681  -0.0486346  -0.0451207     -0.0343283  -0.0372719  -0.0439503\n",
       " -0.0708324  -0.0746401  -0.0722235     -0.0635254  -0.0642596  -0.0639166\n",
       "  0.0905111   0.101124    0.0975361      0.0925761   0.0973827   0.0971854"
      ]
     },
     "execution_count": 8,
     "metadata": {},
     "output_type": "execute_result"
    }
   ],
   "source": [
    "x = first(dtrn)[1]\n",
    "model(x)"
   ]
  },
  {
   "cell_type": "code",
   "execution_count": null,
   "metadata": {},
   "outputs": [],
   "source": [
    "model.tensors"
   ]
  },
  {
   "cell_type": "code",
   "execution_count": null,
   "metadata": {},
   "outputs": [],
   "source": [
    "model.model_layers[5].outputs"
   ]
  },
  {
   "cell_type": "code",
   "execution_count": null,
   "metadata": {},
   "outputs": [],
   "source": [
    "KnetONNX.forward(model, model.model_layers[5])"
   ]
  }
 ],
 "metadata": {
  "kernelspec": {
   "display_name": "Julia 1.2.0",
   "language": "julia",
   "name": "julia-1.2"
  },
  "language_info": {
   "file_extension": ".jl",
   "mimetype": "application/julia",
   "name": "julia",
   "version": "1.2.0"
  }
 },
 "nbformat": 4,
 "nbformat_minor": 2
}
