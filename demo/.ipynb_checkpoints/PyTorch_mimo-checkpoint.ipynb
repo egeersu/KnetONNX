{
 "cells": [
  {
   "cell_type": "code",
   "execution_count": 30,
   "metadata": {},
   "outputs": [],
   "source": [
    "from torch.autograd import Variable; import torch.onnx; import torch.nn as nn; import numpy"
   ]
  },
  {
   "cell_type": "code",
   "execution_count": 58,
   "metadata": {},
   "outputs": [],
   "source": [
    "class miso(nn.Module):\n",
    "    def __init__(self, x_in, x_out, y_in, y_out):\n",
    "        super(miso, self).__init__()\n",
    "        self.linear_x = nn.Linear(x_in, x_out)\n",
    "        self.linear_y = nn.Linear(y_in, y_out)\n",
    "         \n",
    "    def forward(self, x, y):\n",
    "        x_out = self.linear_x(x)\n",
    "        y_out = self.linear_y(y)\n",
    "        return x_out, y_out"
   ]
  },
  {
   "cell_type": "code",
   "execution_count": 59,
   "metadata": {},
   "outputs": [],
   "source": [
    "x_in = 100\n",
    "x_out = 3\n",
    "\n",
    "y_in = 200\n",
    "y_out = 3\n",
    "\n",
    "batch_size = 5;"
   ]
  },
  {
   "cell_type": "code",
   "execution_count": 60,
   "metadata": {},
   "outputs": [],
   "source": [
    "model = miso(x_in, x_out, y_in, y_out)"
   ]
  },
  {
   "cell_type": "code",
   "execution_count": 61,
   "metadata": {},
   "outputs": [],
   "source": [
    "x = torch.ones(batch_size, x_in)\n",
    "y = torch.ones(batch_size, y_in)"
   ]
  },
  {
   "cell_type": "code",
   "execution_count": 62,
   "metadata": {},
   "outputs": [],
   "source": [
    "out1, out2 = model(x,y)"
   ]
  },
  {
   "cell_type": "code",
   "execution_count": 63,
   "metadata": {},
   "outputs": [
    {
     "data": {
      "text/plain": [
       "tensor([[-0.4752, -0.2153, -0.6018],\n",
       "        [-0.4752, -0.2153, -0.6018],\n",
       "        [-0.4752, -0.2153, -0.6018],\n",
       "        [-0.4752, -0.2153, -0.6018],\n",
       "        [-0.4752, -0.2153, -0.6018]], grad_fn=<AddmmBackward>)"
      ]
     },
     "execution_count": 63,
     "metadata": {},
     "output_type": "execute_result"
    }
   ],
   "source": [
    "out1"
   ]
  },
  {
   "cell_type": "code",
   "execution_count": 64,
   "metadata": {},
   "outputs": [
    {
     "data": {
      "text/plain": [
       "tensor([[-0.3874,  0.5014,  0.7213],\n",
       "        [-0.3874,  0.5014,  0.7213],\n",
       "        [-0.3874,  0.5014,  0.7213],\n",
       "        [-0.3874,  0.5014,  0.7213],\n",
       "        [-0.3874,  0.5014,  0.7213]], grad_fn=<AddmmBackward>)"
      ]
     },
     "execution_count": 64,
     "metadata": {},
     "output_type": "execute_result"
    }
   ],
   "source": [
    "out2"
   ]
  },
  {
   "cell_type": "code",
   "execution_count": 65,
   "metadata": {},
   "outputs": [],
   "source": [
    "torch.onnx.export(model, (x,y), \"mimo.onnx\")"
   ]
  }
 ],
 "metadata": {
  "kernelspec": {
   "display_name": "Python 3",
   "language": "python",
   "name": "python3"
  },
  "language_info": {
   "codemirror_mode": {
    "name": "ipython",
    "version": 3
   },
   "file_extension": ".py",
   "mimetype": "text/x-python",
   "name": "python",
   "nbconvert_exporter": "python",
   "pygments_lexer": "ipython3",
   "version": "3.7.4"
  }
 },
 "nbformat": 4,
 "nbformat_minor": 2
}
