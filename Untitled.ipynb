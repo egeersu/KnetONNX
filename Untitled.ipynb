{
 "cells": [
  {
   "cell_type": "markdown",
   "metadata": {},
   "source": [
    "## Import the Package\n",
    "* this makes sure we can find KnetONNX.jl which is the main file of the package\n"
   ]
  },
  {
   "cell_type": "code",
   "execution_count": 4,
   "metadata": {},
   "outputs": [
    {
     "name": "stderr",
     "output_type": "stream",
     "text": [
      "┌ Info: Precompiling KnetONNX [top-level]\n",
      "└ @ Base loading.jl:1242\n"
     ]
    },
    {
     "name": "stdout",
     "output_type": "stream",
     "text": [
      "  Updating registry at `~/.julia/registries/General`\n",
      "  Updating git-repo `https://github.com/JuliaRegistries/General.git`\n",
      "\u001b[?25l\u001b[2K\u001b[?25h Resolving package versions...\n"
     ]
    },
    {
     "name": "stderr",
     "output_type": "stream",
     "text": [
      "ERROR: LoadError: path /Users/egeersu/Desktop/p1 for package p1 no longer exists. Remove the package or `develop` it at a new path\n",
      "Stacktrace:\n",
      " [1] pkgerror(::String) at /Users/sabae/buildbot/worker/package_macos64/build/usr/share/julia/stdlib/v1.2/Pkg/src/Types.jl:112\n",
      " [2] collect_fixed!(::Pkg.Types.Context, ::Array{Pkg.Types.PackageSpec,1}, ::Dict{Base.UUID,String}) at /Users/sabae/buildbot/worker/package_macos64/build/usr/share/julia/stdlib/v1.2/Pkg/src/Operations.jl:248\n",
      " [3] resolve_versions!(::Pkg.Types.Context, ::Array{Pkg.Types.PackageSpec,1}) at /Users/sabae/buildbot/worker/package_macos64/build/usr/share/julia/stdlib/v1.2/Pkg/src/Operations.jl:291\n",
      " [4] #add#100(::Bool, ::typeof(Pkg.Operations.add), ::Pkg.Types.Context, ::Array{Pkg.Types.PackageSpec,1}, ::Array{Base.UUID,1}) at /Users/sabae/buildbot/worker/package_macos64/build/usr/share/julia/stdlib/v1.2/Pkg/src/Operations.jl:962\n",
      " [5] #add at ./none:0 [inlined]\n",
      " [6] #add#25(::Bool, ::Base.Iterators.Pairs{Union{},Union{},Tuple{},NamedTuple{(),Tuple{}}}, ::typeof(Pkg.API.add), ::Pkg.Types.Context, ::Array{Pkg.Types.PackageSpec,1}) at /Users/sabae/buildbot/worker/package_macos64/build/usr/share/julia/stdlib/v1.2/Pkg/src/API.jl:99\n",
      " [7] add at /Users/sabae/buildbot/worker/package_macos64/build/usr/share/julia/stdlib/v1.2/Pkg/src/API.jl:69 [inlined]\n",
      " [8] #add#24 at /Users/sabae/buildbot/worker/package_macos64/build/usr/share/julia/stdlib/v1.2/Pkg/src/API.jl:67 [inlined]\n",
      " [9] add at /Users/sabae/buildbot/worker/package_macos64/build/usr/share/julia/stdlib/v1.2/Pkg/src/API.jl:67 [inlined]\n",
      " [10] #add#21 at /Users/sabae/buildbot/worker/package_macos64/build/usr/share/julia/stdlib/v1.2/Pkg/src/API.jl:65 [inlined]\n",
      " [11] add at /Users/sabae/buildbot/worker/package_macos64/build/usr/share/julia/stdlib/v1.2/Pkg/src/API.jl:65 [inlined]\n",
      " [12] #add#20(::Base.Iterators.Pairs{Union{},Union{},Tuple{},NamedTuple{(),Tuple{}}}, ::typeof(Pkg.API.add), ::String) at /Users/sabae/buildbot/worker/package_macos64/build/usr/share/julia/stdlib/v1.2/Pkg/src/API.jl:64\n",
      " [13] add(::String) at /Users/sabae/buildbot/worker/package_macos64/build/usr/share/julia/stdlib/v1.2/Pkg/src/API.jl:64\n",
      " [14] top-level scope at /Users/egeersu/Desktop/KnetONNX/KnetONNX.jl:5\n",
      " [15] include at ./boot.jl:328 [inlined]\n",
      " [16] include_relative(::Module, ::String) at ./loading.jl:1094\n",
      " [17] include(::Module, ::String) at ./Base.jl:31\n",
      " [18] top-level scope at none:2\n",
      " [19] eval at ./boot.jl:330 [inlined]\n",
      " [20] eval(::Expr) at ./client.jl:432\n",
      " [21] top-level scope at ./none:3\n",
      "in expression starting at /Users/egeersu/Desktop/KnetONNX/KnetONNX.jl:5\n"
     ]
    },
    {
     "ename": "ErrorException",
     "evalue": "Failed to precompile KnetONNX [top-level] to /Users/egeersu/.julia/compiled/v1.2/KnetONNX.ji.",
     "output_type": "error",
     "traceback": [
      "Failed to precompile KnetONNX [top-level] to /Users/egeersu/.julia/compiled/v1.2/KnetONNX.ji.",
      "",
      "Stacktrace:",
      " [1] error(::String) at ./error.jl:33",
      " [2] compilecache(::Base.PkgId, ::String) at ./loading.jl:1253",
      " [3] _require(::Base.PkgId) at ./loading.jl:1013",
      " [4] require(::Base.PkgId) at ./loading.jl:911",
      " [5] require(::Module, ::Symbol) at ./loading.jl:906",
      " [6] top-level scope at In[4]:2"
     ]
    }
   ],
   "source": [
    "push!(LOAD_PATH, \".\")\n",
    "\n",
    "# go to the module: KnetONNX.jl to see which functions are exported. \n",
    "using KnetONNX;"
   ]
  },
  {
   "cell_type": "code",
   "execution_count": null,
   "metadata": {},
   "outputs": [],
   "source": [
    "#the path to mlp.onnx which is in folder: @test_onnx_files\n",
    "# it is a simple multi-layer-perceptron exported from PyTorch\n",
    "file_path = \"/Users/egeersu/Desktop/KnetONNX/@test_onnx_files/mlp.onnx\""
   ]
  },
  {
   "cell_type": "code",
   "execution_count": null,
   "metadata": {},
   "outputs": [],
   "source": []
  },
  {
   "cell_type": "code",
   "execution_count": null,
   "metadata": {},
   "outputs": [],
   "source": []
  }
 ],
 "metadata": {
  "kernelspec": {
   "display_name": "Julia 1.2.0",
   "language": "julia",
   "name": "julia-1.2"
  },
  "language_info": {
   "file_extension": ".jl",
   "mimetype": "application/julia",
   "name": "julia",
   "version": "1.2.0"
  }
 },
 "nbformat": 4,
 "nbformat_minor": 2
}
