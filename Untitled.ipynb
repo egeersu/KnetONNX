{
 "cells": [
  {
   "cell_type": "code",
   "execution_count": 1,
   "metadata": {},
   "outputs": [],
   "source": [
    "push!(LOAD_PATH, \".\")\n",
    "\n",
    "# go to the module: KnetONNX.jl to see which functions are exported. \n",
    "using Knet\n",
    "using KnetONNX;"
   ]
  },
  {
   "cell_type": "code",
   "execution_count": 2,
   "metadata": {},
   "outputs": [
    {
     "data": {
      "text/plain": [
       "\"/Users/egeersu/Desktop/KnetONNX/@test_onnx_files/rnn.onnx\""
      ]
     },
     "execution_count": 2,
     "metadata": {},
     "output_type": "execute_result"
    }
   ],
   "source": [
    "file_path = \"/Users/egeersu/Desktop/KnetONNX/@test_onnx_files/rnn.onnx\""
   ]
  },
  {
   "cell_type": "code",
   "execution_count": 3,
   "metadata": {},
   "outputs": [
    {
     "data": {
      "text/plain": [
       "KnetONNX.Types.Graph(Any[KnetONNX.Types.Node(AbstractString[], AbstractString[\"7\"], \"\", \"Constant\", \"\", Dict{Any,Any}(:value => KnetONNX.Proto.TensorProto(Int64[], 7, #undef, Float32[], Int32[], Array{UInt8,1}[], Int64[], \"\", \"\", UInt8[0x01, 0x00, 0x00, 0x00, 0x00, 0x00, 0x00, 0x00], Float64[], UInt64[])), \"\"), KnetONNX.Types.Node(AbstractString[\"input.1\"], AbstractString[\"8\"], \"\", \"Shape\", \"\", Dict{Any,Any}(), \"\"), KnetONNX.Types.Node(AbstractString[\"8\", \"7\"], AbstractString[\"9\"], \"\", \"Gather\", \"\", Dict{Any,Any}(:axis => 0), \"\"), KnetONNX.Types.Node(AbstractString[], AbstractString[\"10\"], \"\", \"Constant\", \"\", Dict{Any,Any}(:value => KnetONNX.Proto.TensorProto(Int64[], 7, #undef, Float32[], Int32[], Array{UInt8,1}[], Int64[], \"\", \"\", UInt8[0x01, 0x00, 0x00, 0x00, 0x00, 0x00, 0x00, 0x00], Float64[], UInt64[])), \"\"), KnetONNX.Types.Node(AbstractString[], AbstractString[\"11\"], \"\", \"Constant\", \"\", Dict{Any,Any}(:value => KnetONNX.Proto.TensorProto(Int64[], 7, #undef, Float32[], Int32[], Array{UInt8,1}[], Int64[], \"\", \"\", UInt8[0x24, 0x00, 0x00, 0x00, 0x00, 0x00, 0x00, 0x00], Float64[], UInt64[])), \"\"), KnetONNX.Types.Node(AbstractString[\"10\"], AbstractString[\"12\"], \"\", \"Unsqueeze\", \"\", Dict{Any,Any}(:axes => [0]), \"\"), KnetONNX.Types.Node(AbstractString[\"9\"], AbstractString[\"13\"], \"\", \"Unsqueeze\", \"\", Dict{Any,Any}(:axes => [0]), \"\"), KnetONNX.Types.Node(AbstractString[\"11\"], AbstractString[\"14\"], \"\", \"Unsqueeze\", \"\", Dict{Any,Any}(:axes => [0]), \"\"), KnetONNX.Types.Node(AbstractString[\"12\", \"13\", \"14\"], AbstractString[\"15\"], \"\", \"Concat\", \"\", Dict{Any,Any}(:axis => 0), \"\"), KnetONNX.Types.Node(AbstractString[\"15\"], AbstractString[\"16\"], \"\", \"ConstantOfShape\", \"\", Dict{Any,Any}(:value => KnetONNX.Proto.TensorProto([1], 1, #undef, Float32[], Int32[], Array{UInt8,1}[], Int64[], \"\", \"\", UInt8[0x00, 0x00, 0x00, 0x00], Float64[], UInt64[])), \"\"), KnetONNX.Types.Node(AbstractString[\"rnn.bias_ih_l0\", \"rnn.bias_hh_l0\"], AbstractString[\"18\"], \"\", \"Concat\", \"\", Dict{Any,Any}(:axis => 0), \"\"), KnetONNX.Types.Node(AbstractString[\"rnn.weight_ih_l0\"], AbstractString[\"19\"], \"\", \"Unsqueeze\", \"\", Dict{Any,Any}(:axes => [0]), \"\"), KnetONNX.Types.Node(AbstractString[\"rnn.weight_hh_l0\"], AbstractString[\"20\"], \"\", \"Unsqueeze\", \"\", Dict{Any,Any}(:axes => [0]), \"\"), KnetONNX.Types.Node(AbstractString[\"18\"], AbstractString[\"21\"], \"\", \"Unsqueeze\", \"\", Dict{Any,Any}(:axes => [0]), \"\"), KnetONNX.Types.Node(AbstractString[\"input.1\", \"19\", \"20\", \"21\", \"\", \"16\"], AbstractString[\"22\", \"23\"], \"\", \"RNN\", \"\", Dict{Any,Any}(:activations => Array{UInt8,1}[[0x54, 0x61, 0x6e, 0x68]],:hidden_size => 36), \"\"), KnetONNX.Types.Node(AbstractString[\"23\"], AbstractString[\"24\"], \"\", \"Squeeze\", \"\", Dict{Any,Any}(:axes => [0]), \"\"), KnetONNX.Types.Node(AbstractString[\"24\", \"linear.weight\", \"linear.bias\"], AbstractString[\"25\"], \"\", \"Gemm\", \"\", Dict{Any,Any}(:alpha => 1.0f0,:beta => 1.0f0,:transB => 1), \"\")], \"torch-jit-export\", Dict{Any,Any}(\"linear.bias\" => Float32[0.14711185, 0.12233426],\"rnn.bias_ih_l0\" => Float32[-0.0123677105, 0.027676806, 0.013470665, -0.055989467, 0.16073836, 0.023643866, -0.1588065, 0.04023336, -0.1413149, -0.10083588  …  -0.13207023, 0.15616335, 0.16303794, 0.04365611, -0.10344243, -0.077196084, 0.11341716, -0.13456438, 0.1451004, 0.05845736],\"linear.weight\" => Float32[0.10705502 -0.030807242; 0.085996166 0.14130796; … ; -0.0043877214 0.00461632; 0.15036322 -0.009725377],\"rnn.weight_hh_l0\" => Float32[0.02470392 -0.078456305 … -0.0011104345 0.06433076; -0.049411044 -0.04274392 … 0.012140229 0.07260226; … ; -0.107319534 -0.11580535 … 0.064590335 0.16624086; 0.039556786 0.020285368 … -0.1301348 -0.040345445],\"rnn.weight_ih_l0\" => Float32[-0.04615313 -0.15848969 … -0.15009199 -0.11404546; -0.1473497 0.014648855 … 0.08268404 0.13621809; … ; 0.094735816 -0.051710688 … -0.08430567 0.1256081; 0.13043027 0.05099894 … 0.1388234 -0.07157155],\"rnn.bias_hh_l0\" => Float32[-0.07721033, 0.13990758, -0.009342492, -0.06820673, -0.13681021, 0.07534355, 0.13028996, 0.027720228, 0.031644627, 0.056852832  …  -0.14184485, -0.12199454, -0.13723682, 0.1140189, -0.0003270507, -0.004298508, 0.10260023, -0.059080146, 0.057540283, -0.1451407]), \"\", KnetONNX.Types.ValueInfo[KnetONNX.Types.ValueInfo(\"input.1\", \"\")], KnetONNX.Types.ValueInfo[KnetONNX.Types.ValueInfo(\"25\", \"\")], KnetONNX.Types.ValueInfo[])"
      ]
     },
     "execution_count": 3,
     "metadata": {},
     "output_type": "execute_result"
    }
   ],
   "source": [
    "graph1 = ONNXtoGraph(file_path)"
   ]
  },
  {
   "cell_type": "code",
   "execution_count": 4,
   "metadata": {},
   "outputs": [
    {
     "name": "stdout",
     "output_type": "stream",
     "text": [
      "model inputs: [\"input.1\"]\n",
      "model outputs: [\"25\"]\n",
      "(op1) Constant\n",
      "\toutput1: 7\n",
      "(op2) Shape\n",
      "\tinput1: input.1\n",
      "\toutput1: 8\n",
      "(op3) Gather\n",
      "\tinput1: 8\n",
      "\tinput2: 7\n",
      "\toutput1: 9\n",
      "(op4) Constant\n",
      "\toutput1: 10\n",
      "(op5) Constant\n",
      "\toutput1: 11\n",
      "(op6) Unsqueeze\n",
      "\tinput1: 10\n",
      "\toutput1: 12\n",
      "(op7) Unsqueeze\n",
      "\tinput1: 9\n",
      "\toutput1: 13\n",
      "(op8) Unsqueeze\n",
      "\tinput1: 11\n",
      "\toutput1: 14\n",
      "(op9) Concat\n",
      "\tinput1: 12\n",
      "\tinput2: 13\n",
      "\tinput3: 14\n",
      "\toutput1: 15\n",
      "(op10) ConstantOfShape\n",
      "\tinput1: 15\n",
      "\toutput1: 16\n",
      "(op11) Concat\n",
      "\tinput1: rnn.bias_ih_l0\n",
      "\tinput2: rnn.bias_hh_l0\n",
      "\toutput1: 18\n",
      "(op12) Unsqueeze\n",
      "\tinput1: rnn.weight_ih_l0\n",
      "\toutput1: 19\n",
      "(op13) Unsqueeze\n",
      "\tinput1: rnn.weight_hh_l0\n",
      "\toutput1: 20\n",
      "(op14) Unsqueeze\n",
      "\tinput1: 18\n",
      "\toutput1: 21\n",
      "(op15) RNN\n",
      "\tinput1: input.1\n",
      "\tinput2: 19\n",
      "\tinput3: 20\n",
      "\tinput4: 21\n",
      "\tinput5: \n",
      "\tinput6: 16\n",
      "\toutput1: 22\n",
      "\toutput2: 23\n",
      "(op16) Squeeze\n",
      "\tinput1: 23\n",
      "\toutput1: 24\n",
      "(op17) Gemm\n",
      "\tinput1: 24\n",
      "\tinput2: linear.weight\n",
      "\tinput3: linear.bias\n",
      "\toutput1: 25\n"
     ]
    }
   ],
   "source": [
    "PrintGraph(graph1)"
   ]
  }
 ],
 "metadata": {
  "kernelspec": {
   "display_name": "Julia 1.2.0",
   "language": "julia",
   "name": "julia-1.2"
  },
  "language_info": {
   "file_extension": ".jl",
   "mimetype": "application/julia",
   "name": "julia",
   "version": "1.2.0"
  }
 },
 "nbformat": 4,
 "nbformat_minor": 2
}
