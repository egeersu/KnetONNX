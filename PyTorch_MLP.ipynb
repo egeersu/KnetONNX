{
 "cells": [
  {
   "cell_type": "code",
   "execution_count": 59,
   "metadata": {},
   "outputs": [],
   "source": [
    "from torch.autograd import Variable\n",
    "import torch.onnx\n",
    "import torch.nn as nn\n",
    "import numpy"
   ]
  },
  {
   "cell_type": "code",
   "execution_count": 60,
   "metadata": {},
   "outputs": [],
   "source": [
    "class model(nn.Module):\n",
    "    def __init__(self, dim1, dim2, dim3):\n",
    "        super(model, self).__init__()\n",
    "        self.linear1 = nn.Linear(dim1, dim2)\n",
    "        self.linear2 = nn.Linear(dim2, dim3)\n",
    "        \n",
    "    def forward(self, x):\n",
    "        linear1_out = self.linear1(x)\n",
    "        linear2_out = self.linear2(linear1_out)\n",
    "        return linear2_out"
   ]
  },
  {
   "cell_type": "code",
   "execution_count": 61,
   "metadata": {},
   "outputs": [],
   "source": [
    "dim1 = 100\n",
    "dim2 = 20\n",
    "dim3 = 2\n",
    "MLP = model(dim1, dim2, dim3)"
   ]
  },
  {
   "cell_type": "code",
   "execution_count": 62,
   "metadata": {},
   "outputs": [],
   "source": [
    "dummy_input = torch.ones(50,100)"
   ]
  },
  {
   "cell_type": "code",
   "execution_count": 63,
   "metadata": {},
   "outputs": [
    {
     "data": {
      "text/plain": [
       "tensor([[-0.2707,  0.0528],\n",
       "        [-0.2707,  0.0528],\n",
       "        [-0.2707,  0.0528],\n",
       "        [-0.2707,  0.0528],\n",
       "        [-0.2707,  0.0528],\n",
       "        [-0.2707,  0.0528],\n",
       "        [-0.2707,  0.0528],\n",
       "        [-0.2707,  0.0528],\n",
       "        [-0.2707,  0.0528],\n",
       "        [-0.2707,  0.0528],\n",
       "        [-0.2707,  0.0528],\n",
       "        [-0.2707,  0.0528],\n",
       "        [-0.2707,  0.0528],\n",
       "        [-0.2707,  0.0528],\n",
       "        [-0.2707,  0.0528],\n",
       "        [-0.2707,  0.0528],\n",
       "        [-0.2707,  0.0528],\n",
       "        [-0.2707,  0.0528],\n",
       "        [-0.2707,  0.0528],\n",
       "        [-0.2707,  0.0528],\n",
       "        [-0.2707,  0.0528],\n",
       "        [-0.2707,  0.0528],\n",
       "        [-0.2707,  0.0528],\n",
       "        [-0.2707,  0.0528],\n",
       "        [-0.2707,  0.0528],\n",
       "        [-0.2707,  0.0528],\n",
       "        [-0.2707,  0.0528],\n",
       "        [-0.2707,  0.0528],\n",
       "        [-0.2707,  0.0528],\n",
       "        [-0.2707,  0.0528],\n",
       "        [-0.2707,  0.0528],\n",
       "        [-0.2707,  0.0528],\n",
       "        [-0.2707,  0.0528],\n",
       "        [-0.2707,  0.0528],\n",
       "        [-0.2707,  0.0528],\n",
       "        [-0.2707,  0.0528],\n",
       "        [-0.2707,  0.0528],\n",
       "        [-0.2707,  0.0528],\n",
       "        [-0.2707,  0.0528],\n",
       "        [-0.2707,  0.0528],\n",
       "        [-0.2707,  0.0528],\n",
       "        [-0.2707,  0.0528],\n",
       "        [-0.2707,  0.0528],\n",
       "        [-0.2707,  0.0528],\n",
       "        [-0.2707,  0.0528],\n",
       "        [-0.2707,  0.0528],\n",
       "        [-0.2707,  0.0528],\n",
       "        [-0.2707,  0.0528],\n",
       "        [-0.2707,  0.0528],\n",
       "        [-0.2707,  0.0528]], grad_fn=<AddmmBackward>)"
      ]
     },
     "execution_count": 63,
     "metadata": {},
     "output_type": "execute_result"
    }
   ],
   "source": [
    "MLP(dummy_input)"
   ]
  },
  {
   "cell_type": "code",
   "execution_count": 64,
   "metadata": {},
   "outputs": [],
   "source": [
    "linear2 = MLP.linear2"
   ]
  },
  {
   "cell_type": "code",
   "execution_count": 65,
   "metadata": {},
   "outputs": [
    {
     "data": {
      "text/plain": [
       "Parameter containing:\n",
       "tensor([[-7.5923e-02,  1.5332e-01, -1.2425e-04,  2.6828e-02,  1.4851e-01,\n",
       "         -1.7720e-01, -2.1272e-01,  2.7419e-02,  1.2793e-01,  1.3397e-01,\n",
       "         -1.0802e-01,  5.8088e-02,  5.7516e-02,  2.2199e-01,  1.7695e-01,\n",
       "          2.1349e-01,  1.2251e-03, -1.1093e-01,  1.7467e-01, -9.3447e-02],\n",
       "        [ 1.1998e-01,  1.2573e-01,  5.0004e-02,  1.1702e-02, -6.5946e-02,\n",
       "         -2.4771e-02,  1.7243e-01,  2.2071e-03,  1.6445e-01,  1.1679e-01,\n",
       "         -1.3833e-01, -1.0920e-01,  4.4179e-02,  6.6898e-02, -1.4535e-01,\n",
       "         -1.5887e-01,  8.9259e-02,  2.2197e-01, -1.6002e-01, -1.1041e-01]],\n",
       "       requires_grad=True)"
      ]
     },
     "execution_count": 65,
     "metadata": {},
     "output_type": "execute_result"
    }
   ],
   "source": [
    "linear2.weight.shape\n",
    "linear2.weight"
   ]
  },
  {
   "cell_type": "code",
   "execution_count": 66,
   "metadata": {},
   "outputs": [],
   "source": [
    "torch.onnx.export(MLP, dummy_input, \"mlp.onnx\")"
   ]
  }
 ],
 "metadata": {
  "kernelspec": {
   "display_name": "Python 3",
   "language": "python",
   "name": "python3"
  },
  "language_info": {
   "codemirror_mode": {
    "name": "ipython",
    "version": 3
   },
   "file_extension": ".py",
   "mimetype": "text/x-python",
   "name": "python",
   "nbconvert_exporter": "python",
   "pygments_lexer": "ipython3",
   "version": "3.7.4"
  }
 },
 "nbformat": 4,
 "nbformat_minor": 2
}
