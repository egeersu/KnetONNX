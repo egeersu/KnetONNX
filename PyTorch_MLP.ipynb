{
 "cells": [
  {
   "cell_type": "code",
   "execution_count": 35,
   "metadata": {},
   "outputs": [],
   "source": [
    "from torch.autograd import Variable\n",
    "import torch.onnx\n",
    "import torch.nn as nn\n",
    "import numpy"
   ]
  },
  {
   "cell_type": "code",
   "execution_count": 50,
   "metadata": {},
   "outputs": [],
   "source": [
    "class model(nn.Module):\n",
    "    def __init__(self, dim1, dim2, dim3):\n",
    "        super(model, self).__init__()\n",
    "        self.linear1 = nn.Linear(dim1, dim2)\n",
    "        self.linear2 = nn.Linear(dim2, dim3)\n",
    "        \n",
    "    def forward(self, x):\n",
    "        linear1_out = self.linear1(x)\n",
    "        linear2_out = self.linear2(linear1_out)\n",
    "        return linear2_out"
   ]
  },
  {
   "cell_type": "code",
   "execution_count": 51,
   "metadata": {},
   "outputs": [],
   "source": [
    "dim1 = 40\n",
    "dim2 = 20\n",
    "dim3 = 2\n",
    "MLP = model(dim1, dim2, dim3)"
   ]
  },
  {
   "cell_type": "code",
   "execution_count": 52,
   "metadata": {},
   "outputs": [],
   "source": [
    "dummy_input = torch.ones(5,40)"
   ]
  },
  {
   "cell_type": "code",
   "execution_count": 53,
   "metadata": {},
   "outputs": [
    {
     "data": {
      "text/plain": [
       "tensor([[ 0.5580, -0.1497],\n",
       "        [ 0.5580, -0.1497],\n",
       "        [ 0.5580, -0.1497],\n",
       "        [ 0.5580, -0.1497],\n",
       "        [ 0.5580, -0.1497]], grad_fn=<AddmmBackward>)"
      ]
     },
     "execution_count": 53,
     "metadata": {},
     "output_type": "execute_result"
    }
   ],
   "source": [
    "MLP(dummy_input)"
   ]
  },
  {
   "cell_type": "code",
   "execution_count": 54,
   "metadata": {},
   "outputs": [],
   "source": [
    "linear2 = MLP.linear2"
   ]
  },
  {
   "cell_type": "code",
   "execution_count": 56,
   "metadata": {},
   "outputs": [
    {
     "data": {
      "text/plain": [
       "Parameter containing:\n",
       "tensor([[ 0.1575,  0.1557,  0.2226, -0.0402, -0.0760,  0.0153,  0.2147, -0.1743,\n",
       "          0.1532,  0.0112, -0.0392, -0.1407,  0.0861,  0.0934, -0.0746, -0.1121,\n",
       "         -0.0759, -0.1358, -0.0146,  0.0847],\n",
       "        [-0.0583,  0.1479, -0.1812, -0.1939, -0.1310,  0.1390,  0.0373, -0.1149,\n",
       "         -0.0865,  0.1985,  0.1120, -0.0097,  0.0520,  0.1083, -0.1591,  0.0707,\n",
       "         -0.1550, -0.1748, -0.0443,  0.0181]], requires_grad=True)"
      ]
     },
     "execution_count": 56,
     "metadata": {},
     "output_type": "execute_result"
    }
   ],
   "source": [
    "linear2.weight.shape\n",
    "linear2.weight"
   ]
  },
  {
   "cell_type": "code",
   "execution_count": 57,
   "metadata": {},
   "outputs": [],
   "source": [
    "torch.onnx.export(MLP, dummy_input, \"mlp.onnx\")"
   ]
  },
  {
   "cell_type": "code",
   "execution_count": 58,
   "metadata": {},
   "outputs": [
    {
     "data": {
      "text/plain": [
       "<bound method Module.parameters of model(\n",
       "  (linear1): Linear(in_features=40, out_features=20, bias=True)\n",
       "  (linear2): Linear(in_features=20, out_features=2, bias=True)\n",
       ")>"
      ]
     },
     "execution_count": 58,
     "metadata": {},
     "output_type": "execute_result"
    }
   ],
   "source": [
    "MLP.parameters"
   ]
  }
 ],
 "metadata": {
  "kernelspec": {
   "display_name": "Python 3",
   "language": "python",
   "name": "python3"
  },
  "language_info": {
   "codemirror_mode": {
    "name": "ipython",
    "version": 3
   },
   "file_extension": ".py",
   "mimetype": "text/x-python",
   "name": "python",
   "nbconvert_exporter": "python",
   "pygments_lexer": "ipython3",
   "version": "3.7.4"
  }
 },
 "nbformat": 4,
 "nbformat_minor": 2
}
