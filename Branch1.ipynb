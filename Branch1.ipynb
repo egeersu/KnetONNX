{
 "cells": [
  {
   "cell_type": "code",
   "execution_count": 1,
   "metadata": {},
   "outputs": [],
   "source": [
    "from torch.autograd import Variable\n",
    "import torch.onnx\n",
    "import torch.nn as nn\n",
    "import numpy"
   ]
  },
  {
   "cell_type": "code",
   "execution_count": 38,
   "metadata": {},
   "outputs": [],
   "source": [
    "class model(nn.Module):\n",
    "    def __init__(self, linear1_out, linear2_out):\n",
    "        super(model, self).__init__()\n",
    "        self.linear1 = nn.Linear(200, linear1_out)\n",
    "        self.linear2 = nn.Linear(200, linear2_out)\n",
    "        \n",
    "    def forward(self, x):\n",
    "        linear1_out = self.linear1(x)\n",
    "        linear2_out = self.linear2(x)\n",
    "        return torch.cat((linear1_out, linear2_out), 1)"
   ]
  },
  {
   "cell_type": "code",
   "execution_count": 39,
   "metadata": {},
   "outputs": [
    {
     "data": {
      "text/plain": [
       "torch.Size([50, 40])"
      ]
     },
     "execution_count": 39,
     "metadata": {},
     "output_type": "execute_result"
    }
   ],
   "source": [
    "x1 = torch.randn(50,10)\n",
    "x2 = torch.randn(50,30)\n",
    "torch.cat((x1,x2), 1).shape"
   ]
  },
  {
   "cell_type": "code",
   "execution_count": 40,
   "metadata": {},
   "outputs": [],
   "source": [
    "linear1_out = 10\n",
    "linear2_out = 30\n",
    "branch1 = model(linear1_out, linear2_out)"
   ]
  },
  {
   "cell_type": "code",
   "execution_count": 43,
   "metadata": {},
   "outputs": [
    {
     "data": {
      "text/plain": [
       "tensor([[ 0.5938, -1.1319,  0.8065,  ...,  0.5120,  0.6382, -0.4184],\n",
       "        [ 0.3701, -0.4633, -0.0861,  ..., -0.7359, -0.2621, -0.8690],\n",
       "        [ 0.5367, -0.9805, -0.0956,  ..., -0.4866,  0.5404,  0.3553],\n",
       "        ...,\n",
       "        [ 0.8317,  0.7078,  0.5034,  ...,  0.1214,  0.0824,  0.4915],\n",
       "        [-0.3461, -0.0582,  0.5309,  ..., -0.4551, -0.3560,  0.1818],\n",
       "        [-0.0188,  0.4456, -1.4974,  ...,  0.0651,  0.5821, -0.5161]],\n",
       "       grad_fn=<CatBackward>)"
      ]
     },
     "execution_count": 43,
     "metadata": {},
     "output_type": "execute_result"
    }
   ],
   "source": [
    "dummy_input = torch.randn(50,200)\n",
    "branch1(dummy_input)"
   ]
  },
  {
   "cell_type": "code",
   "execution_count": 44,
   "metadata": {},
   "outputs": [],
   "source": [
    "torch.onnx.export(branch1, dummy_input, \"branch1.onnx\")"
   ]
  },
  {
   "cell_type": "code",
   "execution_count": null,
   "metadata": {},
   "outputs": [],
   "source": []
  }
 ],
 "metadata": {
  "kernelspec": {
   "display_name": "Python 3",
   "language": "python",
   "name": "python3"
  },
  "language_info": {
   "codemirror_mode": {
    "name": "ipython",
    "version": 3
   },
   "file_extension": ".py",
   "mimetype": "text/x-python",
   "name": "python",
   "nbconvert_exporter": "python",
   "pygments_lexer": "ipython3",
   "version": "3.7.4"
  }
 },
 "nbformat": 4,
 "nbformat_minor": 2
}
