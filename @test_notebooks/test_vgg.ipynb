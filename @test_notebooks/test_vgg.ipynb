{
 "cells": [
  {
   "cell_type": "code",
   "execution_count": 1,
   "metadata": {},
   "outputs": [
    {
     "data": {
      "text/plain": [
       "4-element Array{String,1}:\n",
       " \"@\"      \n",
       " \"@v#.#\"  \n",
       " \"@stdlib\"\n",
       " \".\"      "
      ]
     },
     "execution_count": 1,
     "metadata": {},
     "output_type": "execute_result"
    }
   ],
   "source": [
    "push!(LOAD_PATH, \".\")"
   ]
  },
  {
   "cell_type": "code",
   "execution_count": 2,
   "metadata": {
    "scrolled": true
   },
   "outputs": [
    {
     "name": "stderr",
     "output_type": "stream",
     "text": [
      "┌ Info: Recompiling stale cache file /Users/egeersu/.julia/compiled/v1.2/KnetONNX.ji for KnetONNX [top-level]\n",
      "└ @ Base loading.jl:1240\n"
     ]
    },
    {
     "name": "stdout",
     "output_type": "stream",
     "text": [
      "  Updating registry at `~/.julia/registries/General`\n",
      "  Updating git-repo `https://github.com/JuliaRegistries/General.git`\n",
      "\u001b[2K\u001b[?25hFetching: [>                                        ]  0.0 % Resolving package versions...\n",
      " Installed CSTParser ────── v1.0.0\n",
      " Installed DataStructures ─ v0.17.5\n",
      "  Updating `~/.julia/environments/v1.2/Project.toml`\n",
      " [no changes]\n",
      "  Updating `~/.julia/environments/v1.2/Manifest.toml`\n",
      "  [00ebfdb7] ↑ CSTParser v0.6.2 ⇒ v1.0.0\n",
      "  [864edb3b] ↑ DataStructures v0.17.3 ⇒ v0.17.5\n",
      " Resolving package versions...\n",
      "  Updating `~/.julia/environments/v1.2/Project.toml`\n",
      " [no changes]\n",
      "  Updating `~/.julia/environments/v1.2/Manifest.toml`\n",
      " [no changes]\n",
      " Resolving package versions...\n",
      "  Updating `~/.julia/environments/v1.2/Project.toml`\n",
      " [no changes]\n",
      "  Updating `~/.julia/environments/v1.2/Manifest.toml`\n",
      " [no changes]\n",
      " Resolving package versions...\n",
      "  Updating `~/.julia/environments/v1.2/Project.toml`\n",
      " [no changes]\n",
      "  Updating `~/.julia/environments/v1.2/Manifest.toml`\n",
      " [no changes]\n"
     ]
    },
    {
     "name": "stderr",
     "output_type": "stream",
     "text": [
      "WARNING: Method definition iterate(DataFlow.ObjectArraySet{T} where T, Any...) in module DataFlow at /Users/egeersu/.julia/packages/Lazy/mAoZN/src/macros.jl:285 overwritten at /Users/egeersu/.julia/packages/Lazy/mAoZN/src/macros.jl:285.\n",
      "  ** incremental compilation may be fatally broken for this module **\n",
      "\n",
      "WARNING: Method definition iterate(DataFlow.ObjectArraySet{T} where T, Any...) in module DataFlow at /Users/egeersu/.julia/packages/Lazy/mAoZN/src/macros.jl:285 overwritten at /Users/egeersu/.julia/packages/Lazy/mAoZN/src/macros.jl:285.\n",
      "  ** incremental compilation may be fatally broken for this module **\n",
      "\n",
      "WARNING: Method definition iterate(DataFlow.ObjectArraySet{T} where T, Any...) in module DataFlow at /Users/egeersu/.julia/packages/Lazy/mAoZN/src/macros.jl:285 overwritten at /Users/egeersu/.julia/packages/Lazy/mAoZN/src/macros.jl:285.\n",
      "  ** incremental compilation may be fatally broken for this module **\n",
      "\n",
      "WARNING: Method definition iterate(DataFlow.ObjectArraySet{T} where T, Any...) in module DataFlow at /Users/egeersu/.julia/packages/Lazy/mAoZN/src/macros.jl:285 overwritten at /Users/egeersu/.julia/packages/Lazy/mAoZN/src/macros.jl:285.\n",
      "  ** incremental compilation may be fatally broken for this module **\n",
      "\n"
     ]
    },
    {
     "name": "stdout",
     "output_type": "stream",
     "text": [
      " Resolving package versions...\n",
      "  Updating `~/.julia/environments/v1.2/Project.toml`\n",
      " [no changes]\n",
      "  Updating `~/.julia/environments/v1.2/Manifest.toml`\n",
      " [no changes]\n",
      " Resolving package versions...\n",
      "  Updating `~/.julia/environments/v1.2/Project.toml`\n",
      " [no changes]\n",
      "  Updating `~/.julia/environments/v1.2/Manifest.toml`\n",
      " [no changes]\n",
      " Resolving package versions...\n",
      "  Updating `~/.julia/environments/v1.2/Project.toml`\n",
      " [no changes]\n",
      "  Updating `~/.julia/environments/v1.2/Manifest.toml`\n",
      " [no changes]\n"
     ]
    }
   ],
   "source": [
    "using KnetONNX;\n",
    "using Knet;"
   ]
  },
  {
   "cell_type": "code",
   "execution_count": 6,
   "metadata": {},
   "outputs": [
    {
     "name": "stdout",
     "output_type": "stream",
     "text": [
      "model inputs: [\"input.1\"]\n",
      "model outputs: [\"70\"]\n",
      "(op1) Conv\n",
      "\tinput1: input.1\n",
      "\tinput2: features.0.weight\n",
      "\tinput3: features.0.bias\n",
      "\toutput1: 33\n",
      "(op2) Relu\n",
      "\tinput1: 33\n",
      "\toutput1: 34\n",
      "(op3) Conv\n",
      "\tinput1: 34\n",
      "\tinput2: features.2.weight\n",
      "\tinput3: features.2.bias\n",
      "\toutput1: 35\n",
      "(op4) Relu\n",
      "\tinput1: 35\n",
      "\toutput1: 36\n",
      "(op5) MaxPool\n",
      "\tinput1: 36\n",
      "\toutput1: 37\n",
      "(op6) Conv\n",
      "\tinput1: 37\n",
      "\tinput2: features.5.weight\n",
      "\tinput3: features.5.bias\n",
      "\toutput1: 38\n",
      "(op7) Relu\n",
      "\tinput1: 38\n",
      "\toutput1: 39\n",
      "(op8) Conv\n",
      "\tinput1: 39\n",
      "\tinput2: features.7.weight\n",
      "\tinput3: features.7.bias\n",
      "\toutput1: 40\n",
      "(op9) Relu\n",
      "\tinput1: 40\n",
      "\toutput1: 41\n",
      "(op10) MaxPool\n",
      "\tinput1: 41\n",
      "\toutput1: 42\n",
      "(op11) Conv\n",
      "\tinput1: 42\n",
      "\tinput2: features.10.weight\n",
      "\tinput3: features.10.bias\n",
      "\toutput1: 43\n",
      "(op12) Relu\n",
      "\tinput1: 43\n",
      "\toutput1: 44\n",
      "(op13) Conv\n",
      "\tinput1: 44\n",
      "\tinput2: features.12.weight\n",
      "\tinput3: features.12.bias\n",
      "\toutput1: 45\n",
      "(op14) Relu\n",
      "\tinput1: 45\n",
      "\toutput1: 46\n",
      "(op15) Conv\n",
      "\tinput1: 46\n",
      "\tinput2: features.14.weight\n",
      "\tinput3: features.14.bias\n",
      "\toutput1: 47\n",
      "(op16) Relu\n",
      "\tinput1: 47\n",
      "\toutput1: 48\n",
      "(op17) MaxPool\n",
      "\tinput1: 48\n",
      "\toutput1: 49\n",
      "(op18) Conv\n",
      "\tinput1: 49\n",
      "\tinput2: features.17.weight\n",
      "\tinput3: features.17.bias\n",
      "\toutput1: 50\n",
      "(op19) Relu\n",
      "\tinput1: 50\n",
      "\toutput1: 51\n",
      "(op20) Conv\n",
      "\tinput1: 51\n",
      "\tinput2: features.19.weight\n",
      "\tinput3: features.19.bias\n",
      "\toutput1: 52\n",
      "(op21) Relu\n",
      "\tinput1: 52\n",
      "\toutput1: 53\n",
      "(op22) Conv\n",
      "\tinput1: 53\n",
      "\tinput2: features.21.weight\n",
      "\tinput3: features.21.bias\n",
      "\toutput1: 54\n",
      "(op23) Relu\n",
      "\tinput1: 54\n",
      "\toutput1: 55\n",
      "(op24) MaxPool\n",
      "\tinput1: 55\n",
      "\toutput1: 56\n",
      "(op25) Conv\n",
      "\tinput1: 56\n",
      "\tinput2: features.24.weight\n",
      "\tinput3: features.24.bias\n",
      "\toutput1: 57\n",
      "(op26) Relu\n",
      "\tinput1: 57\n",
      "\toutput1: 58\n",
      "(op27) Conv\n",
      "\tinput1: 58\n",
      "\tinput2: features.26.weight\n",
      "\tinput3: features.26.bias\n",
      "\toutput1: 59\n",
      "(op28) Relu\n",
      "\tinput1: 59\n",
      "\toutput1: 60\n",
      "(op29) Conv\n",
      "\tinput1: 60\n",
      "\tinput2: features.28.weight\n",
      "\tinput3: features.28.bias\n",
      "\toutput1: 61\n",
      "(op30) Relu\n",
      "\tinput1: 61\n",
      "\toutput1: 62\n",
      "(op31) MaxPool\n",
      "\tinput1: 62\n",
      "\toutput1: 63\n",
      "(op32) AveragePool\n",
      "\tinput1: 63\n",
      "\toutput1: 64\n",
      "(op33) Flatten\n",
      "\tinput1: 64\n",
      "\toutput1: 65\n",
      "(op34) Gemm\n",
      "\tinput1: 65\n",
      "\tinput2: classifier.0.weight\n",
      "\tinput3: classifier.0.bias\n",
      "\toutput1: 66\n",
      "(op35) Relu\n",
      "\tinput1: 66\n",
      "\toutput1: 67\n",
      "(op36) Gemm\n",
      "\tinput1: 67\n",
      "\tinput2: classifier.3.weight\n",
      "\tinput3: classifier.3.bias\n",
      "\toutput1: 68\n",
      "(op37) Relu\n",
      "\tinput1: 68\n",
      "\toutput1: 69\n",
      "(op38) Gemm\n",
      "\tinput1: 69\n",
      "\tinput2: classifier.6.weight\n",
      "\tinput3: classifier.6.bias\n",
      "\toutput1: 70\n"
     ]
    }
   ],
   "source": [
    "#Test: vgg16\n",
    "file_path = \"/Users/egeersu/Desktop/ONNX_models/vgg16.onnx\"\n",
    "graph = ONNXtoGraph(file_path)\n",
    "PrintGraph(graph)"
   ]
  },
  {
   "cell_type": "code",
   "execution_count": 4,
   "metadata": {},
   "outputs": [
    {
     "name": "stdout",
     "output_type": "stream",
     "text": [
      "input size: (224, 224, 3)\n",
      "layer 1 output size: (224, 224, 64)\n",
      "layer 2 output size: (224, 224, 64)\n",
      "layer 3 output size: (224, 224, 64)\n",
      "layer 4 output size: (224, 224, 64)\n",
      "layer 5 output size: (112, 112, 64, 1)\n",
      "layer 6 output size: (112, 112, 128, 1)\n",
      "layer 7 output size: (112, 112, 128, 1)\n",
      "layer 8 output size: (112, 112, 128, 1)\n",
      "layer 9 output size: (112, 112, 128, 1)\n",
      "layer 10 output size: (56, 56, 128, 1)\n",
      "layer 11 output size: (56, 56, 256, 1)\n",
      "layer 12 output size: (56, 56, 256, 1)\n",
      "layer 13 output size: (56, 56, 256, 1)\n",
      "layer 14 output size: (56, 56, 256, 1)\n",
      "layer 15 output size: (56, 56, 256, 1)\n",
      "layer 16 output size: (56, 56, 256, 1)\n",
      "layer 17 output size: (28, 28, 256, 1)\n",
      "layer 18 output size: (28, 28, 512, 1)\n",
      "layer 19 output size: (28, 28, 512, 1)\n",
      "layer 20 output size: (28, 28, 512, 1)\n",
      "layer 21 output size: (28, 28, 512, 1)\n",
      "layer 22 output size: (28, 28, 512, 1)\n",
      "layer 23 output size: (28, 28, 512, 1)\n",
      "layer 24 output size: (14, 14, 512, 1)\n",
      "layer 25 output size: (14, 14, 512, 1)\n",
      "layer 26 output size: (14, 14, 512, 1)\n",
      "layer 27 output size: (14, 14, 512, 1)\n",
      "layer 28 output size: (14, 14, 512, 1)\n",
      "layer 29 output size: (14, 14, 512, 1)\n",
      "layer 30 output size: (14, 14, 512, 1)\n",
      "layer 31 output size: (7, 7, 512, 1)\n",
      "layer 32 output size: (25088, 1)\n",
      "layer 33 output size: (4096, 1)\n",
      "layer 34 output size: (4096, 1)\n",
      "layer 35 output size: (4096, 1)\n",
      "layer 36 output size: (4096, 1)\n",
      "layer 37 output size: (4096, 1)\n",
      "layer 38 output size: (4096, 1)\n",
      "layer 39 output size: (4096, 1)\n",
      "layer 40 output size: (4096, 1)\n",
      "layer 41 output size: (1000, 1)\n"
     ]
    },
    {
     "data": {
      "text/plain": [
       "1000×1 Array{Float32,2}:\n",
       " -1.0120914   \n",
       " -0.05526756  \n",
       " -0.88437897  \n",
       " -0.5653423   \n",
       "  0.2594603   \n",
       " -0.22221889  \n",
       "  0.4136628   \n",
       " -0.22287807  \n",
       " -0.5284054   \n",
       " -1.7115912   \n",
       " -1.9790573   \n",
       " -1.4471753   \n",
       " -1.5949141   \n",
       "  ⋮           \n",
       " -0.0041467827\n",
       " -0.29556605  \n",
       "  0.11887443  \n",
       " -0.52663594  \n",
       " -0.48943835  \n",
       " -2.1991148   \n",
       " -2.2831585   \n",
       " -1.5751415   \n",
       " -1.185614    \n",
       " -1.3363527   \n",
       "  0.7747093   \n",
       "  1.8653502   "
      ]
     },
     "execution_count": 4,
     "metadata": {},
     "output_type": "execute_result"
    }
   ],
   "source": [
    "x0 = randn(Float32,224,224,3)\n",
    "model(x0)"
   ]
  },
  {
   "cell_type": "code",
   "execution_count": null,
   "metadata": {},
   "outputs": [],
   "source": [
    "g1 = ONNXtoGraph(\"vgg16.onnx\");"
   ]
  },
  {
   "cell_type": "code",
   "execution_count": null,
   "metadata": {},
   "outputs": [],
   "source": [
    "g1.node[5].op_type"
   ]
  },
  {
   "cell_type": "code",
   "execution_count": null,
   "metadata": {},
   "outputs": [],
   "source": [
    "layer5 = model.layers[5]"
   ]
  },
  {
   "cell_type": "code",
   "execution_count": null,
   "metadata": {},
   "outputs": [],
   "source": [
    "@doc KnetONNX.KnetLayers.Sampling"
   ]
  },
  {
   "cell_type": "code",
   "execution_count": null,
   "metadata": {},
   "outputs": [],
   "source": [
    "x1 = randn(4,5,6)\n",
    "reshape(x1, (size(x1)..., 1))"
   ]
  },
  {
   "cell_type": "code",
   "execution_count": null,
   "metadata": {},
   "outputs": [],
   "source": [
    "x0 = randn(Float32,224,224,3)\n",
    "y1 = model.layers[1](x0)\n",
    "y2 = model.layers[2](y1)\n",
    "y3 = model.layers[3](y2)\n",
    "y4 = model.layers[4](y3)"
   ]
  },
  {
   "cell_type": "code",
   "execution_count": null,
   "metadata": {},
   "outputs": [],
   "source": [
    "model.layers[5]\n",
    "y5 = model.layers[5](reshape(y4, 224,224,64,1))"
   ]
  },
  {
   "cell_type": "code",
   "execution_count": null,
   "metadata": {},
   "outputs": [],
   "source": [
    "@doc pool"
   ]
  },
  {
   "cell_type": "code",
   "execution_count": null,
   "metadata": {},
   "outputs": [],
   "source": []
  },
  {
   "cell_type": "code",
   "execution_count": null,
   "metadata": {},
   "outputs": [],
   "source": [
    "x1 = randn(Float32,416,416,3,1)\n",
    "i = 1\n",
    "for layer in model.layers\n",
    "    print(i)\n",
    "    x1 = layer(x1)\n",
    "    println(\"   \", size(x1))\n",
    "    i+=1\n",
    "end"
   ]
  },
  {
   "cell_type": "code",
   "execution_count": null,
   "metadata": {},
   "outputs": [],
   "source": [
    "x1 = randn(Float32,416,416,3,1)\n",
    "model(x1);"
   ]
  },
  {
   "cell_type": "code",
   "execution_count": null,
   "metadata": {},
   "outputs": [],
   "source": [
    "KL = include(\"./KnetLayers/src/KnetLayers.jl\")"
   ]
  }
 ],
 "metadata": {
  "kernelspec": {
   "display_name": "Julia 1.2.0",
   "language": "julia",
   "name": "julia-1.2"
  },
  "language_info": {
   "file_extension": ".jl",
   "mimetype": "application/julia",
   "name": "julia",
   "version": "1.2.0"
  }
 },
 "nbformat": 4,
 "nbformat_minor": 2
}
