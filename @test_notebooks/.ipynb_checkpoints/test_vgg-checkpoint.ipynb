{
 "cells": [
  {
   "cell_type": "code",
   "execution_count": 1,
   "metadata": {},
   "outputs": [
    {
     "data": {
      "text/plain": [
       "4-element Array{String,1}:\n",
       " \"@\"                              \n",
       " \"@v#.#\"                          \n",
       " \"@stdlib\"                        \n",
       " \"/Users/egeersu/Desktop/KnetONNX\""
      ]
     },
     "execution_count": 1,
     "metadata": {},
     "output_type": "execute_result"
    }
   ],
   "source": [
    "push!(LOAD_PATH, \"/Users/egeersu/Desktop/KnetONNX\")"
   ]
  },
  {
   "cell_type": "code",
   "execution_count": 2,
   "metadata": {
    "scrolled": true
   },
   "outputs": [
    {
     "name": "stderr",
     "output_type": "stream",
     "text": [
      "┌ Info: Recompiling stale cache file /Users/egeersu/.julia/compiled/v1.2/KnetONNX.ji for KnetONNX [top-level]\n",
      "└ @ Base loading.jl:1240\n"
     ]
    },
    {
     "name": "stdout",
     "output_type": "stream",
     "text": [
      "  Updating registry at `~/.julia/registries/General`\n",
      "  Updating git-repo `https://github.com/JuliaRegistries/General.git`\n",
      "\u001b[2K\u001b[?25hFetching: [>                                        ]  0.0 % Resolving package versions...\n",
      "  Updating `~/.julia/environments/v1.2/Project.toml`\n",
      " [no changes]\n",
      "  Updating `~/.julia/environments/v1.2/Manifest.toml`\n",
      " [no changes]\n",
      " Resolving package versions...\n",
      "  Updating `~/.julia/environments/v1.2/Project.toml`\n",
      " [no changes]\n",
      "  Updating `~/.julia/environments/v1.2/Manifest.toml`\n",
      " [no changes]\n",
      " Resolving package versions...\n",
      "  Updating `~/.julia/environments/v1.2/Project.toml`\n",
      " [no changes]\n",
      "  Updating `~/.julia/environments/v1.2/Manifest.toml`\n",
      " [no changes]\n",
      " Resolving package versions...\n",
      "  Updating `~/.julia/environments/v1.2/Project.toml`\n",
      " [no changes]\n",
      "  Updating `~/.julia/environments/v1.2/Manifest.toml`\n",
      " [no changes]\n"
     ]
    },
    {
     "name": "stderr",
     "output_type": "stream",
     "text": [
      "WARNING: Method definition iterate(DataFlow.ObjectArraySet{T} where T, Any...) in module DataFlow at /Users/egeersu/.julia/packages/Lazy/mAoZN/src/macros.jl:285 overwritten at /Users/egeersu/.julia/packages/Lazy/mAoZN/src/macros.jl:285.\n",
      "  ** incremental compilation may be fatally broken for this module **\n",
      "\n",
      "WARNING: Method definition iterate(DataFlow.ObjectArraySet{T} where T, Any...) in module DataFlow at /Users/egeersu/.julia/packages/Lazy/mAoZN/src/macros.jl:285 overwritten at /Users/egeersu/.julia/packages/Lazy/mAoZN/src/macros.jl:285.\n",
      "  ** incremental compilation may be fatally broken for this module **\n",
      "\n",
      "WARNING: Method definition iterate(DataFlow.ObjectArraySet{T} where T, Any...) in module DataFlow at /Users/egeersu/.julia/packages/Lazy/mAoZN/src/macros.jl:285 overwritten at /Users/egeersu/.julia/packages/Lazy/mAoZN/src/macros.jl:285.\n",
      "  ** incremental compilation may be fatally broken for this module **\n",
      "\n"
     ]
    },
    {
     "name": "stdout",
     "output_type": "stream",
     "text": [
      " Resolving package versions...\n",
      "  Updating `~/.julia/environments/v1.2/Project.toml`\n",
      " [no changes]\n",
      "  Updating `~/.julia/environments/v1.2/Manifest.toml`\n",
      " [no changes]\n",
      " Resolving package versions...\n",
      "  Updating `~/.julia/environments/v1.2/Project.toml`\n",
      " [no changes]\n",
      "  Updating `~/.julia/environments/v1.2/Manifest.toml`\n",
      " [no changes]\n",
      " Resolving package versions...\n",
      "  Updating `~/.julia/environments/v1.2/Project.toml`\n",
      " [no changes]\n",
      "  Updating `~/.julia/environments/v1.2/Manifest.toml`\n",
      " [no changes]\n"
     ]
    }
   ],
   "source": [
    "using KnetONNX;\n",
    "using Knet;"
   ]
  },
  {
   "cell_type": "code",
   "execution_count": 3,
   "metadata": {},
   "outputs": [
    {
     "name": "stdout",
     "output_type": "stream",
     "text": [
      "model inputs: [\"input.1\"]\n",
      "model outputs: [\"70\"]\n",
      "(op1) Conv\n",
      "\tinput1: input.1\n",
      "\tinput2: features.0.weight\n",
      "\tinput3: features.0.bias\n",
      "\toutput1: 33\n",
      "(op2) Relu\n",
      "\tinput1: 33\n",
      "\toutput1: 34\n",
      "(op3) Conv\n",
      "\tinput1: 34\n",
      "\tinput2: features.2.weight\n",
      "\tinput3: features.2.bias\n",
      "\toutput1: 35\n",
      "(op4) Relu\n",
      "\tinput1: 35\n",
      "\toutput1: 36\n",
      "(op5) MaxPool\n",
      "\tinput1: 36\n",
      "\toutput1: 37\n",
      "(op6) Conv\n",
      "\tinput1: 37\n",
      "\tinput2: features.5.weight\n",
      "\tinput3: features.5.bias\n",
      "\toutput1: 38\n",
      "(op7) Relu\n",
      "\tinput1: 38\n",
      "\toutput1: 39\n",
      "(op8) Conv\n",
      "\tinput1: 39\n",
      "\tinput2: features.7.weight\n",
      "\tinput3: features.7.bias\n",
      "\toutput1: 40\n",
      "(op9) Relu\n",
      "\tinput1: 40\n",
      "\toutput1: 41\n",
      "(op10) MaxPool\n",
      "\tinput1: 41\n",
      "\toutput1: 42\n",
      "(op11) Conv\n",
      "\tinput1: 42\n",
      "\tinput2: features.10.weight\n",
      "\tinput3: features.10.bias\n",
      "\toutput1: 43\n",
      "(op12) Relu\n",
      "\tinput1: 43\n",
      "\toutput1: 44\n",
      "(op13) Conv\n",
      "\tinput1: 44\n",
      "\tinput2: features.12.weight\n",
      "\tinput3: features.12.bias\n",
      "\toutput1: 45\n",
      "(op14) Relu\n",
      "\tinput1: 45\n",
      "\toutput1: 46\n",
      "(op15) Conv\n",
      "\tinput1: 46\n",
      "\tinput2: features.14.weight\n",
      "\tinput3: features.14.bias\n",
      "\toutput1: 47\n",
      "(op16) Relu\n",
      "\tinput1: 47\n",
      "\toutput1: 48\n",
      "(op17) MaxPool\n",
      "\tinput1: 48\n",
      "\toutput1: 49\n",
      "(op18) Conv\n",
      "\tinput1: 49\n",
      "\tinput2: features.17.weight\n",
      "\tinput3: features.17.bias\n",
      "\toutput1: 50\n",
      "(op19) Relu\n",
      "\tinput1: 50\n",
      "\toutput1: 51\n",
      "(op20) Conv\n",
      "\tinput1: 51\n",
      "\tinput2: features.19.weight\n",
      "\tinput3: features.19.bias\n",
      "\toutput1: 52\n",
      "(op21) Relu\n",
      "\tinput1: 52\n",
      "\toutput1: 53\n",
      "(op22) Conv\n",
      "\tinput1: 53\n",
      "\tinput2: features.21.weight\n",
      "\tinput3: features.21.bias\n",
      "\toutput1: 54\n",
      "(op23) Relu\n",
      "\tinput1: 54\n",
      "\toutput1: 55\n",
      "(op24) MaxPool\n",
      "\tinput1: 55\n",
      "\toutput1: 56\n",
      "(op25) Conv\n",
      "\tinput1: 56\n",
      "\tinput2: features.24.weight\n",
      "\tinput3: features.24.bias\n",
      "\toutput1: 57\n",
      "(op26) Relu\n",
      "\tinput1: 57\n",
      "\toutput1: 58\n",
      "(op27) Conv\n",
      "\tinput1: 58\n",
      "\tinput2: features.26.weight\n",
      "\tinput3: features.26.bias\n",
      "\toutput1: 59\n",
      "(op28) Relu\n",
      "\tinput1: 59\n",
      "\toutput1: 60\n",
      "(op29) Conv\n",
      "\tinput1: 60\n",
      "\tinput2: features.28.weight\n",
      "\tinput3: features.28.bias\n",
      "\toutput1: 61\n",
      "(op30) Relu\n",
      "\tinput1: 61\n",
      "\toutput1: 62\n",
      "(op31) MaxPool\n",
      "\tinput1: 62\n",
      "\toutput1: 63\n",
      "(op32) AveragePool\n",
      "\tinput1: 63\n",
      "\toutput1: 64\n",
      "(op33) Flatten\n",
      "\tinput1: 64\n",
      "\toutput1: 65\n",
      "(op34) Gemm\n",
      "\tinput1: 65\n",
      "\tinput2: classifier.0.weight\n",
      "\tinput3: classifier.0.bias\n",
      "\toutput1: 66\n",
      "(op35) Relu\n",
      "\tinput1: 66\n",
      "\toutput1: 67\n",
      "(op36) Gemm\n",
      "\tinput1: 67\n",
      "\tinput2: classifier.3.weight\n",
      "\tinput3: classifier.3.bias\n",
      "\toutput1: 68\n",
      "(op37) Relu\n",
      "\tinput1: 68\n",
      "\toutput1: 69\n",
      "(op38) Gemm\n",
      "\tinput1: 69\n",
      "\tinput2: classifier.6.weight\n",
      "\tinput3: classifier.6.bias\n",
      "\toutput1: 70\n"
     ]
    }
   ],
   "source": [
    "#Test: vgg16\n",
    "file_path = \"/Users/egeersu/Desktop/ONNX_models/vgg16.onnx\"\n",
    "graph = ONNXtoGraph(file_path)\n",
    "PrintGraph(graph)"
   ]
  },
  {
   "cell_type": "code",
   "execution_count": 4,
   "metadata": {},
   "outputs": [],
   "source": [
    "model = KnetModel(file_path);"
   ]
  },
  {
   "cell_type": "code",
   "execution_count": 15,
   "metadata": {},
   "outputs": [
    {
     "name": "stdout",
     "output_type": "stream",
     "text": [
      "x0: (224, 224, 3, 10)\n",
      "out1: (224, 224, 64, 10)\n",
      "out2: (224, 224, 64, 10)\n",
      "out3: (224, 224, 64, 10)\n",
      "out4: (224, 224, 64, 10)\n",
      "out5: (112, 112, 64, 10)\n",
      "out6: (112, 112, 128, 10)\n",
      "out7: (112, 112, 128, 10)\n",
      "out8: (112, 112, 128, 10)\n",
      "out9: (112, 112, 128, 10)\n",
      "out10: (56, 56, 128, 10)\n",
      "out11: (56, 56, 256, 10)\n",
      "out12: (56, 56, 256, 10)\n",
      "out13: (56, 56, 256, 10)\n",
      "out14: (56, 56, 256, 10)\n",
      "out15: (56, 56, 256, 10)\n",
      "out16: (56, 56, 256, 10)\n",
      "out17: (28, 28, 256, 10)\n",
      "out18: (28, 28, 512, 10)\n",
      "out19: (28, 28, 512, 10)\n",
      "out20: (28, 28, 512, 10)\n",
      "out21: (28, 28, 512, 10)\n",
      "out22: (28, 28, 512, 10)\n",
      "out23: (28, 28, 512, 10)\n",
      "out24: (14, 14, 512, 10)\n",
      "out25: (14, 14, 512, 10)\n",
      "out26: (14, 14, 512, 10)\n",
      "out27: (14, 14, 512, 10)\n",
      "out28: (14, 14, 512, 10)\n",
      "out29: (14, 14, 512, 10)\n",
      "out30: (14, 14, 512, 10)\n",
      "out31: (7, 7, 512, 10)\n",
      "out32: (6, 6, 512, 10)\n",
      "out33: (18432, 10)\n"
     ]
    },
    {
     "ename": "DimensionMismatch",
     "evalue": "DimensionMismatch(\"A has dimensions (4096,25088) but B has dimensions (18432,10)\")",
     "output_type": "error",
     "traceback": [
      "DimensionMismatch(\"A has dimensions (4096,25088) but B has dimensions (18432,10)\")",
      "",
      "Stacktrace:",
      " [1] gemm_wrapper!(::Array{Float32,2}, ::Char, ::Char, ::Base.ReshapedArray{Float32,2,Base.ReinterpretArray{Float32,1,UInt8,Array{UInt8,1}},Tuple{}}, ::Array{Float32,2}) at /Users/sabae/buildbot/worker/package_macos64/build/usr/share/julia/stdlib/v1.2/LinearAlgebra/src/matmul.jl:442",
      " [2] mul! at /Users/sabae/buildbot/worker/package_macos64/build/usr/share/julia/stdlib/v1.2/LinearAlgebra/src/matmul.jl:225 [inlined]",
      " [3] *(::LinearAlgebra.Transpose{Float32,Base.ReshapedArray{Float32,2,Base.ReinterpretArray{Float32,1,UInt8,Array{UInt8,1}},Tuple{}}}, ::Array{Float32,2}) at /Users/sabae/buildbot/worker/package_macos64/build/usr/share/julia/stdlib/v1.2/LinearAlgebra/src/matmul.jl:143",
      " [4] #call#2(::Bool, ::KnetONNX.KnetLayers.Multiply, ::Array{Float32,2}) at /Users/egeersu/Desktop/KnetONNX/KnetLayers/src/primitive.jl:31",
      " [5] Multiply at /Users/egeersu/Desktop/KnetONNX/KnetLayers/src/primitive.jl:26 [inlined]",
      " [6] (::KnetONNX.KnetLayers.Linear)(::Array{Float32,2}) at /Users/egeersu/Desktop/KnetONNX/KnetLayers/src/primitive.jl:102",
      " [7] top-level scope at ./In[15]:5"
     ]
    }
   ],
   "source": [
    "xi = randn(Float32,224,224,3,10)\n",
    "println(\"x0: \", size(xi))\n",
    "\n",
    "for i in 1:38\n",
    "    xi = model.model_layers[i].layer(xi)\n",
    "    println(\"out\", i, \": \", size(xi))\n",
    "end"
   ]
  },
  {
   "cell_type": "code",
   "execution_count": 6,
   "metadata": {},
   "outputs": [
    {
     "data": {
      "text/plain": [
       "KnetONNX.Types.Node(AbstractString[\"62\"], AbstractString[\"63\"], \"\", \"MaxPool\", \"\", Dict{Any,Any}(:pads => [0, 0, 0, 0],:kernel_shape => [2, 2],:strides => [2, 2]), \"\")"
      ]
     },
     "execution_count": 6,
     "metadata": {},
     "output_type": "execute_result"
    }
   ],
   "source": [
    "graph.node[31]"
   ]
  },
  {
   "cell_type": "code",
   "execution_count": 7,
   "metadata": {},
   "outputs": [
    {
     "data": {
      "text/plain": [
       "KnetONNX.KnetLayers.Sampling{typeof(pool)}((window = 2, padding = 0, stride = 2, mode = 0, maxpoolingNanOpt = 0, alpha = 1))"
      ]
     },
     "execution_count": 7,
     "metadata": {},
     "output_type": "execute_result"
    }
   ],
   "source": [
    "model.model_layers[31].layer"
   ]
  },
  {
   "cell_type": "code",
   "execution_count": 8,
   "metadata": {},
   "outputs": [
    {
     "data": {
      "text/plain": [
       "KnetONNX.Types.Node(AbstractString[\"63\"], AbstractString[\"64\"], \"\", \"AveragePool\", \"\", Dict{Any,Any}(:kernel_shape => [1, 1],:strides => [1, 1]), \"\")"
      ]
     },
     "execution_count": 8,
     "metadata": {},
     "output_type": "execute_result"
    }
   ],
   "source": [
    "graph.node[32]"
   ]
  },
  {
   "cell_type": "code",
   "execution_count": 9,
   "metadata": {},
   "outputs": [
    {
     "data": {
      "text/plain": [
       "KnetONNX.KnetLayers.Sampling{typeof(pool)}((window = 2, padding = 0, stride = 1, mode = 0, maxpoolingNanOpt = 0, alpha = 1))"
      ]
     },
     "execution_count": 9,
     "metadata": {},
     "output_type": "execute_result"
    }
   ],
   "source": [
    "model.model_layers[32].layer"
   ]
  },
  {
   "cell_type": "code",
   "execution_count": 10,
   "metadata": {},
   "outputs": [],
   "source": [
    "d1 = randn(Float32,14,14,512,1);"
   ]
  },
  {
   "cell_type": "code",
   "execution_count": null,
   "metadata": {},
   "outputs": [],
   "source": [
    "out31 = model.model_layers[31].layer(d1)\n",
    "@show size(out31)"
   ]
  },
  {
   "cell_type": "code",
   "execution_count": null,
   "metadata": {},
   "outputs": [],
   "source": [
    "out32 = model.model_layers[32].layer(out31)\n",
    "@show size(out32)"
   ]
  },
  {
   "cell_type": "code",
   "execution_count": null,
   "metadata": {},
   "outputs": [],
   "source": [
    "model.model_layers[32].layer(out32)"
   ]
  },
  {
   "cell_type": "code",
   "execution_count": null,
   "metadata": {},
   "outputs": [],
   "source": [
    "model.tensors"
   ]
  },
  {
   "cell_type": "code",
   "execution_count": null,
   "metadata": {},
   "outputs": [],
   "source": [
    "xi = randn(Float32,224,224,3,1)\n",
    "model(xi)"
   ]
  }
 ],
 "metadata": {
  "kernelspec": {
   "display_name": "Julia 1.2.0",
   "language": "julia",
   "name": "julia-1.2"
  },
  "language_info": {
   "file_extension": ".jl",
   "mimetype": "application/julia",
   "name": "julia",
   "version": "1.2.0"
  }
 },
 "nbformat": 4,
 "nbformat_minor": 2
}
